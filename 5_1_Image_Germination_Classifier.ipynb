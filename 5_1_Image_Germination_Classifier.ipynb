{
  "nbformat": 4,
  "nbformat_minor": 0,
  "metadata": {
    "colab": {
      "provenance": [],
      "gpuType": "T4",
      "include_colab_link": true
    },
    "kernelspec": {
      "name": "python3",
      "display_name": "Python 3"
    },
    "language_info": {
      "name": "python"
    },
    "accelerator": "GPU"
  },
  "cells": [
    {
      "cell_type": "markdown",
      "metadata": {
        "id": "view-in-github",
        "colab_type": "text"
      },
      "source": [
        "<a href=\"https://colab.research.google.com/github/vhrique/ELF/blob/main/5_1_Image_Germination_Classifier.ipynb\" target=\"_parent\"><img src=\"https://colab.research.google.com/assets/colab-badge.svg\" alt=\"Open In Colab\"/></a>"
      ]
    },
    {
      "cell_type": "code",
      "execution_count": null,
      "metadata": {
        "id": "5_jTEjEjwY0a"
      },
      "outputs": [],
      "source": [
        "from google.colab import drive\n",
        "drive.mount('/content/drive')"
      ]
    },
    {
      "cell_type": "code",
      "source": [
        "!cp -r /content/drive/MyDrive/Trabalho/Silex/Serviços/Nacre/Outros/Seed-X\\ Project/Data/dataset_germination_20250323 /content/dataset_germination\n",
        "!sync"
      ],
      "metadata": {
        "id": "ysIReYkWufol"
      },
      "execution_count": null,
      "outputs": []
    },
    {
      "cell_type": "code",
      "source": [
        "!pip install pytorch_lightning easycm > package.txt"
      ],
      "metadata": {
        "id": "uMG4msxgwlMT"
      },
      "execution_count": null,
      "outputs": []
    },
    {
      "cell_type": "code",
      "source": [
        "import os\n",
        "\n",
        "import seaborn as sns\n",
        "import pandas as pd\n",
        "import pytorch_lightning as pl\n",
        "import torch\n",
        "import torch.nn as nn\n",
        "import torch.optim as optim\n",
        "import timm\n",
        "\n",
        "from collections import Counter\n",
        "from PIL import Image\n",
        "from pytorch_lightning.loggers import TensorBoardLogger\n",
        "from pytorch_lightning.callbacks import ModelCheckpoint\n",
        "from sklearn.metrics import classification_report, confusion_matrix\n",
        "from torch.utils.data import DataLoader, Dataset, WeightedRandomSampler\n",
        "from torchvision import transforms\n",
        "from tqdm import tqdm"
      ],
      "metadata": {
        "id": "NuLKlRs4wf9T"
      },
      "execution_count": null,
      "outputs": []
    },
    {
      "cell_type": "code",
      "source": [
        "class SeedlingClassifier(pl.LightningModule):\n",
        "    def __init__(self):\n",
        "        super().__init__()\n",
        "        self.model = timm.create_model(\n",
        "            'convnextv2_atto',\n",
        "            pretrained=True,\n",
        "            num_classes=3\n",
        "        )\n",
        "        self.loss_fn = nn.CrossEntropyLoss()\n",
        "\n",
        "    def forward(self, x):\n",
        "        return self.model(x)\n",
        "\n",
        "    def training_step(self, batch, batch_idx):\n",
        "        x, y = batch\n",
        "        logits = self(x)\n",
        "        loss = self.loss_fn(logits, y)\n",
        "        # log training loss\n",
        "        self.log(\"train_loss\", loss, on_step=False, on_epoch=True, prog_bar=True)\n",
        "        return loss\n",
        "\n",
        "    def validation_step(self, batch, batch_idx):\n",
        "        x, y = batch\n",
        "        logits = self(x)\n",
        "        loss = self.loss_fn(logits, y)\n",
        "        # compute accuracy\n",
        "        preds = torch.argmax(logits, dim=1)\n",
        "        acc = (preds == y).float().mean()\n",
        "        self.log(\"val_loss\", loss, on_step=False, on_epoch=True, prog_bar=True)\n",
        "        self.log(\"val_acc\", acc, on_step=False, on_epoch=True, prog_bar=True)\n",
        "        return {'val_loss': loss, 'val_acc': acc}\n",
        "\n",
        "    def test_step(self, batch, batch_idx):\n",
        "        x, y = batch\n",
        "        logits = self(x)\n",
        "        loss = self.loss_fn(logits, y)\n",
        "        preds = torch.argmax(logits, dim=1)\n",
        "        acc = (preds == y).float().mean()\n",
        "        # Log test metrics so that they appear in TensorBoard and the progress bar\n",
        "        self.log(\"test_loss\", loss, on_step=False, on_epoch=True, prog_bar=True)\n",
        "        self.log(\"test_acc\", acc, on_step=False, on_epoch=True, prog_bar=True)\n",
        "        return {'test_loss': loss, 'test_acc': acc}\n",
        "\n",
        "    def configure_optimizers(self):\n",
        "        optimizer = optim.Adam(self.parameters(), lr=1e-4)\n",
        "        return optimizer"
      ],
      "metadata": {
        "id": "jhDgcE3EwrqV"
      },
      "execution_count": null,
      "outputs": []
    },
    {
      "cell_type": "code",
      "source": [
        "class CustomImageDataset(Dataset):\n",
        "    def __init__(self, df: pd.DataFrame, transform=None):\n",
        "        \"\"\"\n",
        "        Args:\n",
        "            df (pd.DataFrame): DataFrame with columns 'filename' and 'class'\n",
        "            img_dir (str): Directory with all the images.\n",
        "            transform: Optional transform to be applied on an image.\n",
        "        \"\"\"\n",
        "        self.df = df.reset_index(drop=True)\n",
        "        self.transform = transform\n",
        "        self.classes = {'NG': 0, 'S': 1, 'G': 2}\n",
        "\n",
        "    def __len__(self):\n",
        "        return len(self.df)\n",
        "\n",
        "    def __getitem__(self, idx):\n",
        "        # Get the filename and label from the DataFrame\n",
        "        row = self.df.iloc[idx]\n",
        "        basename = os.path.split(row['filename'])[1]\n",
        "        filename = os.path.join('/content/dataset_germination/images', basename)\n",
        "        image = Image.open(filename).convert(\"RGB\")\n",
        "        label = self.classes[row['germination']]\n",
        "        if self.transform:\n",
        "            image = self.transform(image)\n",
        "        return image, label"
      ],
      "metadata": {
        "id": "kilezlVlyB_W"
      },
      "execution_count": null,
      "outputs": []
    },
    {
      "cell_type": "code",
      "source": [
        "transform_train = transforms.Compose([\n",
        "    transforms.Resize((224, 224)),\n",
        "    transforms.RandomVerticalFlip(p=0.5),\n",
        "    transforms.RandomHorizontalFlip(p=0.5),\n",
        "    transforms.RandAugment(num_ops=2, magnitude=9),  # adjust parameters as needed\n",
        "    transforms.ToTensor(),\n",
        "    transforms.Normalize(mean=(0.485, 0.456, 0.406), std=(0.229, 0.224, 0.225))\n",
        "])\n",
        "\n",
        "# Validation and test transforms (no augmentation)\n",
        "transform_val_test = transforms.Compose([\n",
        "    transforms.Resize((224, 224)),\n",
        "    transforms.ToTensor(),\n",
        "    transforms.Normalize(mean=(0.485, 0.456, 0.406), std=(0.229, 0.224, 0.225))\n",
        "])"
      ],
      "metadata": {
        "id": "GgmXwhbVxuVu"
      },
      "execution_count": null,
      "outputs": []
    },
    {
      "cell_type": "code",
      "source": [
        "data_path = '/content/drive/MyDrive/Trabalho/Silex/Serviços/Nacre/Outros/Seed-X Project/Data/dataset_germination_20250323'"
      ],
      "metadata": {
        "id": "BGtw9d7cy5CR"
      },
      "execution_count": null,
      "outputs": []
    },
    {
      "cell_type": "code",
      "source": [
        "df = pd.read_csv(os.path.join(data_path, 'index.csv'))\n",
        "df = df.query('germination == \"G\" or germination == \"S\" or germination == \"NG\"')\n",
        "\n",
        "val_batch = '7291'\n",
        "test_batch = '7356'\n",
        "train_df = df.query(f'batch != {val_batch} and batch != {test_batch}')\n",
        "val_df = df.query(f'batch == {val_batch}')\n",
        "test_df = df.query(f'batch == {test_batch}')\n",
        "\n",
        "label_counts = Counter(train_df.germination.tolist())\n",
        "total_samples = len(train_df)\n",
        "cluster_weights = {label: total_samples / count for label, count in label_counts.items()}\n",
        "sample_weights = [cluster_weights[label] for label in train_df.germination.tolist()]\n",
        "sampler = WeightedRandomSampler(weights=sample_weights, num_samples=len(sample_weights), replacement=True)\n",
        "\n",
        "train_dataset = CustomImageDataset(train_df, transform_train)\n",
        "val_dataset = CustomImageDataset(val_df, transform_val_test)\n",
        "test_dataset = CustomImageDataset(test_df, transform_val_test)\n",
        "\n",
        "train_loader = DataLoader(train_dataset, batch_size=32, sampler=sampler, num_workers=8, pin_memory=True)\n",
        "val_loader = DataLoader(val_dataset, batch_size=32, shuffle=False, num_workers=8, pin_memory=True)\n",
        "test_loader = DataLoader(test_dataset, batch_size=32, shuffle=False, num_workers=8, pin_memory=True)"
      ],
      "metadata": {
        "id": "2_1zNQnSywyA",
        "colab": {
          "base_uri": "https://localhost:8080/"
        },
        "outputId": "4be8fe54-85cf-49ab-bdd6-5595a8a12264"
      },
      "execution_count": null,
      "outputs": [
        {
          "output_type": "stream",
          "name": "stderr",
          "text": [
            "/usr/local/lib/python3.11/dist-packages/torch/utils/data/dataloader.py:624: UserWarning: This DataLoader will create 8 worker processes in total. Our suggested max number of worker in current system is 2, which is smaller than what this DataLoader is going to create. Please be aware that excessive worker creation might get DataLoader running slow or even freeze, lower the worker number to avoid potential slowness/freeze if necessary.\n",
            "  warnings.warn(\n"
          ]
        }
      ]
    },
    {
      "cell_type": "code",
      "source": [
        "model_path = os.path.join(data_path, 'model_20250408')\n",
        "logs_path = os.path.join(model_path, 'logs')\n",
        "\n",
        "checkpoint_callback = ModelCheckpoint(\n",
        "    monitor='val_loss',           # metric to monitor\n",
        "    dirpath=model_path,           # directory to save checkpoints\n",
        "    filename='best-checkpoint',   # filename template\n",
        "    save_top_k=1,                 # only save the best model (k=1)\n",
        "    mode='min'                    # mode 'min' because we want to minimize validation loss\n",
        ")\n",
        "\n",
        "logger = TensorBoardLogger(logs_path, name=\"convnextv2_atto_classifier\")\n",
        "\n",
        "model = SeedlingClassifier()\n",
        "\n",
        "trainer = pl.Trainer(max_epochs=50, logger=logger, callbacks=[checkpoint_callback])\n",
        "\n",
        "trainer.fit(model, train_loader, val_loader)"
      ],
      "metadata": {
        "id": "WhwOMIyvzwbz"
      },
      "execution_count": null,
      "outputs": []
    },
    {
      "cell_type": "code",
      "source": [
        "model = SeedlingClassifier.load_from_checkpoint(os.path.join(model_path, 'best-checkpoint.ckpt'))\n",
        "model.eval();"
      ],
      "metadata": {
        "id": "vrMnzKaWyKxM"
      },
      "execution_count": null,
      "outputs": []
    },
    {
      "cell_type": "code",
      "source": [
        "full_dataset = CustomImageDataset(df, transform_val_test)\n",
        "\n",
        "labels = []\n",
        "predictions = []\n",
        "for i, data in enumerate(full_dataset):\n",
        "    image, label = data\n",
        "    with torch.no_grad():\n",
        "        logits = model(image.to(model.device).unsqueeze(0)).squeeze(0)\n",
        "        pred_class = torch.argmax(logits, dim=0).item()\n",
        "        predictions.append(pred_class)\n",
        "        labels.append(label)\n",
        "\n",
        "images = df.filename.tolist()\n",
        "\n",
        "pd.DataFrame({\n",
        "    'filename': images,\n",
        "    'label': labels,\n",
        "    'predictions': predictions\n",
        "}).to_csv(os.path.join(model_path, 'predictions.csv'), index=False)"
      ],
      "metadata": {
        "id": "DI4x3Q9VyOb1"
      },
      "execution_count": null,
      "outputs": []
    },
    {
      "cell_type": "code",
      "source": [
        "df = pd.read_csv(os.path.join(model_path, 'predictions.csv'))\n",
        "df['validation'] = [str(val_batch) in fn for fn in df.filename]\n",
        "df['test'] = [str(test_batch) in fn for fn in df.filename]"
      ],
      "metadata": {
        "id": "ylWG-Up-aDR2"
      },
      "execution_count": null,
      "outputs": []
    },
    {
      "cell_type": "code",
      "source": [
        "df_train = df.query('validation == False and test == False')\n",
        "\n",
        "labels = ['NG', 'S', 'G']\n",
        "print(classification_report(df_train.label, df_train.predictions, target_names=labels))\n",
        "\n",
        "cm = confusion_matrix(df_train.label, df_train.predictions)\n",
        "df_cm = pd.DataFrame(cm, labels, labels)\n",
        "sns.heatmap(df_cm, cmap='Blues', cbar=False, annot=True, fmt='d');"
      ],
      "metadata": {
        "id": "03T70EZFEhfQ",
        "outputId": "833f01dd-225b-4b60-e8bb-9751607908f2",
        "colab": {
          "base_uri": "https://localhost:8080/",
          "height": 615
        }
      },
      "execution_count": null,
      "outputs": [
        {
          "output_type": "stream",
          "name": "stdout",
          "text": [
            "              precision    recall  f1-score   support\n",
            "\n",
            "          NG       0.98      0.98      0.98      1862\n",
            "           S       0.79      0.99      0.88       500\n",
            "           G       0.99      0.96      0.98      3980\n",
            "\n",
            "    accuracy                           0.97      6342\n",
            "   macro avg       0.92      0.98      0.95      6342\n",
            "weighted avg       0.97      0.97      0.97      6342\n",
            "\n"
          ]
        },
        {
          "output_type": "display_data",
          "data": {
            "text/plain": [
              "<Figure size 640x480 with 1 Axes>"
            ],
            "image/png": "[encoded data removed]"
          },
          "metadata": {}
        }
      ]
    },
    {
      "cell_type": "code",
      "source": [
        "df_val = df.query('validation == True')\n",
        "\n",
        "labels = ['NG', 'S', 'G']\n",
        "print(classification_report(df_val.label, df_val.predictions, target_names=labels))\n",
        "\n",
        "cm = confusion_matrix(df_val.label, df_val.predictions)\n",
        "df_cm = pd.DataFrame(cm, labels, labels)\n",
        "sns.heatmap(df_cm, cmap='Blues', cbar=False, annot=True, fmt='d');"
      ],
      "metadata": {
        "id": "brDvd71K2CGF",
        "outputId": "09f34631-cb72-4b0a-edd9-c8ffbc214c0a",
        "colab": {
          "base_uri": "https://localhost:8080/",
          "height": 615
        }
      },
      "execution_count": null,
      "outputs": [
        {
          "output_type": "stream",
          "name": "stdout",
          "text": [
            "              precision    recall  f1-score   support\n",
            "\n",
            "          NG       0.99      0.95      0.97       226\n",
            "           S       0.63      0.73      0.68        52\n",
            "           G       0.95      0.96      0.95       406\n",
            "\n",
            "    accuracy                           0.94       684\n",
            "   macro avg       0.86      0.88      0.87       684\n",
            "weighted avg       0.94      0.94      0.94       684\n",
            "\n"
          ]
        },
        {
          "output_type": "display_data",
          "data": {
            "text/plain": [
              "<Figure size 640x480 with 1 Axes>"
            ],
            "image/png": "[encoded data removed]"
          },
          "metadata": {}
        }
      ]
    },
    {
      "cell_type": "code",
      "source": [
        "df_test = df.query('test == True')\n",
        "\n",
        "labels = ['NG', 'S', 'G']\n",
        "print(classification_report(df_test.label, df_test.predictions, target_names=labels))\n",
        "\n",
        "cm = confusion_matrix(df_test.label, df_test.predictions)\n",
        "df_cm = pd.DataFrame(cm, labels, labels)\n",
        "sns.heatmap(df_cm, cmap='Blues', cbar=False, annot=True, fmt='d');"
      ],
      "metadata": {
        "id": "S05ODuJ-aqe4",
        "outputId": "1ed81d07-7f81-4e7f-9e56-229fe47e6260",
        "colab": {
          "base_uri": "https://localhost:8080/",
          "height": 615
        }
      },
      "execution_count": null,
      "outputs": [
        {
          "output_type": "stream",
          "name": "stdout",
          "text": [
            "              precision    recall  f1-score   support\n",
            "\n",
            "          NG       0.94      0.99      0.96       143\n",
            "           S       0.53      0.76      0.63        74\n",
            "           G       0.96      0.89      0.92       464\n",
            "\n",
            "    accuracy                           0.89       681\n",
            "   macro avg       0.81      0.88      0.84       681\n",
            "weighted avg       0.91      0.89      0.90       681\n",
            "\n"
          ]
        },
        {
          "output_type": "display_data",
          "data": {
            "text/plain": [
              "<Figure size 640x480 with 1 Axes>"
            ],
            "image/png": "[encoded data removed]"
          },
          "metadata": {}
        }
      ]
    },
    {
      "cell_type": "code",
      "source": [
        "from google.colab.runtime import unassign\n",
        "unassign()"
      ],
      "metadata": {
        "id": "HQHjhr1D1qNn"
      },
      "execution_count": null,
      "outputs": []
    }
  ]
}