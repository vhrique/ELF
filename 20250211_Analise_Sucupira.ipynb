{
  "nbformat": 4,
  "nbformat_minor": 0,
  "metadata": {
    "colab": {
      "provenance": [],
      "authorship_tag": "ABX9TyOovCgK7BvaLd+DifWayfXm",
      "include_colab_link": true
    },
    "kernelspec": {
      "name": "python3",
      "display_name": "Python 3"
    },
    "language_info": {
      "name": "python"
    }
  },
  "cells": [
    {
      "cell_type": "markdown",
      "metadata": {
        "id": "view-in-github",
        "colab_type": "text"
      },
      "source": [
        "<a href=\"https://colab.research.google.com/github/vhrique/ELF/blob/main/20250211_Analise_Sucupira.ipynb\" target=\"_parent\"><img src=\"https://colab.research.google.com/assets/colab-badge.svg\" alt=\"Open In Colab\"/></a>"
      ]
    },
    {
      "cell_type": "code",
      "execution_count": 1,
      "metadata": {
        "id": "pS58F85Ywj5K"
      },
      "outputs": [],
      "source": [
        "import pandas as pd\n",
        "import numpy as np"
      ]
    },
    {
      "cell_type": "code",
      "source": [
        "planilhas = {\n",
        "    '2021': 'https://drive.google.com/uc?export=download&id=1aY-35G2D8oFIwY9UtxaUP9K00Cz72Tf9',\n",
        "    '2022': 'https://drive.google.com/uc?export=download&id=14QUdOCIMWLOL3De60GKPkvlgxzaMCDPz',\n",
        "    '2023': 'https://drive.google.com/uc?export=download&id=1C2qkNL1N9B6Q6wUh33kbkQ8QRySnEfnZ',\n",
        "    # '2024': 'https://drive.google.com/uc?export=download&id=1WLvc4wt8RsiN2Ob6UWjGq9SodFvQORCj',\n",
        "}"
      ],
      "metadata": {
        "id": "Q3gBZilQwxLx"
      },
      "execution_count": 2,
      "outputs": []
    },
    {
      "cell_type": "code",
      "source": [
        "df = {}\n",
        "for ano in planilhas:\n",
        "    df[ano] = pd.read_excel(planilhas[ano], sheet_name=None)"
      ],
      "metadata": {
        "id": "ojos5l2fyDdr"
      },
      "execution_count": 3,
      "outputs": []
    },
    {
      "cell_type": "code",
      "source": [
        "dfs = []\n",
        "for ano in df:\n",
        "    dfs.append(df[ano]['Linhas de Pesquisa - Projetos'])\n",
        "df_projeto_linhas = pd.concat(dfs).reset_index(drop=True)"
      ],
      "metadata": {
        "id": "2awym1pSyOao"
      },
      "execution_count": 15,
      "outputs": []
    },
    {
      "cell_type": "code",
      "source": [
        "dfs = []\n",
        "for ano in df:\n",
        "    dfs.append(df[ano]['Projetos - Membros'])\n",
        "df_projeto_membros = pd.concat(dfs).reset_index(drop=True)"
      ],
      "metadata": {
        "id": "klPaOaAPrgve"
      },
      "execution_count": 16,
      "outputs": []
    },
    {
      "cell_type": "code",
      "source": [
        "docentes = df_projeto_membros.loc[df_projeto_membros['Categoria do Membro do Projeto'] == 'Docente', 'Nome do Membro do Projeto'].unique().tolist()"
      ],
      "metadata": {
        "id": "ZSkakFcmylih"
      },
      "execution_count": 69,
      "outputs": []
    },
    {
      "cell_type": "code",
      "source": [
        "dfs = []\n",
        "for ano in df:\n",
        "    dfs.append(df[ano]['Projetos - Financiadores'])\n",
        "df_projeto_financiadores = pd.concat(dfs).reset_index(drop=True)"
      ],
      "metadata": {
        "id": "p8IKL0X9zrf_"
      },
      "execution_count": 5,
      "outputs": []
    },
    {
      "cell_type": "code",
      "source": [
        "df = df_projeto_linhas.merge(df_projeto_membros)"
      ],
      "metadata": {
        "id": "POpJd_bNr5_e"
      },
      "execution_count": null,
      "outputs": []
    },
    {
      "cell_type": "code",
      "source": [
        "projetos_financiados = df_projeto_financiadores['Nome do Projeto de Pesquisa'].unique().tolist()"
      ],
      "metadata": {
        "id": "leTuQaMZzwTC"
      },
      "execution_count": 6,
      "outputs": []
    },
    {
      "cell_type": "code",
      "source": [
        "df_projeto_membros['Categoria do Membro do Projeto']"
      ],
      "metadata": {
        "id": "ntdfZHRIywxz",
        "outputId": "ffdbad0b-5521-43c5-be7b-136b1cb06337",
        "colab": {
          "base_uri": "https://localhost:8080/",
          "height": 458
        }
      },
      "execution_count": 67,
      "outputs": [
        {
          "output_type": "execute_result",
          "data": {
            "text/plain": [
              "0                  Discente\n",
              "1                   Docente\n",
              "2                   Docente\n",
              "3                   Docente\n",
              "4                   Docente\n",
              "               ...         \n",
              "969                 Egresso\n",
              "970    Participante Externo\n",
              "971                 Docente\n",
              "972                 Docente\n",
              "973                 Docente\n",
              "Name: Categoria do Membro do Projeto, Length: 974, dtype: object"
            ],
            "text/html": [
              "<div>\n",
              "<style scoped>\n",
              "    .dataframe tbody tr th:only-of-type {\n",
              "        vertical-align: middle;\n",
              "    }\n",
              "\n",
              "    .dataframe tbody tr th {\n",
              "        vertical-align: top;\n",
              "    }\n",
              "\n",
              "    .dataframe thead th {\n",
              "        text-align: right;\n",
              "    }\n",
              "</style>\n",
              "<table border=\"1\" class=\"dataframe\">\n",
              "  <thead>\n",
              "    <tr style=\"text-align: right;\">\n",
              "      <th></th>\n",
              "      <th>Categoria do Membro do Projeto</th>\n",
              "    </tr>\n",
              "  </thead>\n",
              "  <tbody>\n",
              "    <tr>\n",
              "      <th>0</th>\n",
              "      <td>Discente</td>\n",
              "    </tr>\n",
              "    <tr>\n",
              "      <th>1</th>\n",
              "      <td>Docente</td>\n",
              "    </tr>\n",
              "    <tr>\n",
              "      <th>2</th>\n",
              "      <td>Docente</td>\n",
              "    </tr>\n",
              "    <tr>\n",
              "      <th>3</th>\n",
              "      <td>Docente</td>\n",
              "    </tr>\n",
              "    <tr>\n",
              "      <th>4</th>\n",
              "      <td>Docente</td>\n",
              "    </tr>\n",
              "    <tr>\n",
              "      <th>...</th>\n",
              "      <td>...</td>\n",
              "    </tr>\n",
              "    <tr>\n",
              "      <th>969</th>\n",
              "      <td>Egresso</td>\n",
              "    </tr>\n",
              "    <tr>\n",
              "      <th>970</th>\n",
              "      <td>Participante Externo</td>\n",
              "    </tr>\n",
              "    <tr>\n",
              "      <th>971</th>\n",
              "      <td>Docente</td>\n",
              "    </tr>\n",
              "    <tr>\n",
              "      <th>972</th>\n",
              "      <td>Docente</td>\n",
              "    </tr>\n",
              "    <tr>\n",
              "      <th>973</th>\n",
              "      <td>Docente</td>\n",
              "    </tr>\n",
              "  </tbody>\n",
              "</table>\n",
              "<p>974 rows × 1 columns</p>\n",
              "</div><br><label><b>dtype:</b> object</label>"
            ]
          },
          "metadata": {},
          "execution_count": 67
        }
      ]
    },
    {
      "cell_type": "code",
      "source": [
        "projetos_com_membros = df_projeto_membros['Nome do Projeto de Pesquisa'].unique().tolist()"
      ],
      "metadata": {
        "id": "U2ZlgSVnzcbS"
      },
      "execution_count": 7,
      "outputs": []
    },
    {
      "cell_type": "code",
      "source": [
        "projetos_todos = list(set(projetos_financiados + projetos_com_membros))"
      ],
      "metadata": {
        "id": "DjwfK5j92QUT"
      },
      "execution_count": 8,
      "outputs": []
    },
    {
      "cell_type": "code",
      "source": [
        "CDIAC = []\n",
        "GOP = []\n",
        "IDP = []\n",
        "IAS = []\n",
        "\n",
        "for projeto in projetos_todos:\n",
        "    df_projeto = df_projeto_linhas.loc[df_projeto_linhas['Nome do Projeto de Pesquisa'] == projeto]\n",
        "    CDIAC.append('CIÊNCIA DE DADOS, INTELIGÊNCIA ARTIFICIAL E CONTROLE' in df_projeto['Linha de Pesquisa'].tolist())\n",
        "    GOP.append('GESTÃO DE OPERAÇÕES' in df_projeto['Linha de Pesquisa'].tolist())\n",
        "    IDP.append('INOVAÇÃO E DESENVOLVIMENTO DE PRODUTO' in df_projeto['Linha de Pesquisa'].tolist())\n",
        "    IAS.append('INTEGRAÇÃO E AUTOMAÇÃO DE SISTEMAS' in df_projeto['Linha de Pesquisa'].tolist())"
      ],
      "metadata": {
        "id": "KLAsLmQosfhn"
      },
      "execution_count": 29,
      "outputs": []
    },
    {
      "cell_type": "code",
      "source": [
        "discente = []\n",
        "\n",
        "for projeto in projetos_todos:\n",
        "    df_projeto = df_projeto_membros.loc[df_projeto_membros['Nome do Projeto de Pesquisa'] == projeto]\n",
        "    discente.append('Discente' in df_projeto['Categoria do Membro do Projeto'].tolist())"
      ],
      "metadata": {
        "id": "_fCwYdqptWOG"
      },
      "execution_count": 31,
      "outputs": []
    },
    {
      "cell_type": "code",
      "source": [
        "bolsa = []\n",
        "auxilio = []\n",
        "\n",
        "for projeto in projetos_todos:\n",
        "    df_projeto = df_projeto_financiadores.loc[df_projeto_financiadores['Nome do Projeto de Pesquisa'] == projeto]\n",
        "    bolsa.append('BOLSA' in df_projeto['Natureza do Financiador'].tolist())\n",
        "    auxilio.append('OUTRO AUXÍLIO FINANCEIRO' in df_projeto['Natureza do Financiador'].tolist())"
      ],
      "metadata": {
        "id": "d_NR_haSuUof"
      },
      "execution_count": 47,
      "outputs": []
    },
    {
      "cell_type": "code",
      "source": [
        "df = pd.DataFrame({\n",
        "    'projeto': projetos_todos,\n",
        "    'lp_cdiac': CDIAC,\n",
        "    'lp_gop': GOP,\n",
        "    'lp_idp': IDP,\n",
        "    'lp_ias': IAS,\n",
        "    'discente': discente,\n",
        "    'bolsa': bolsa,\n",
        "    'auxilio': auxilio\n",
        "})\n",
        "df['lp'] = df.iloc[:,1:-2].any(axis=1)"
      ],
      "metadata": {
        "id": "IPhD4Cgaup-W"
      },
      "execution_count": 48,
      "outputs": []
    },
    {
      "cell_type": "code",
      "source": [
        "criterio_g1 = df.query('auxilio == True and bolsa == False').lp.mean()\n",
        "criterio_g1"
      ],
      "metadata": {
        "id": "RXrzRA9Du8Ff",
        "outputId": "fb93be08-335d-4880-b783-e3583bd6131d",
        "colab": {
          "base_uri": "https://localhost:8080/"
        }
      },
      "execution_count": 61,
      "outputs": [
        {
          "output_type": "execute_result",
          "data": {
            "text/plain": [
              "1.0"
            ]
          },
          "metadata": {},
          "execution_count": 61
        }
      ]
    },
    {
      "cell_type": "code",
      "source": [
        "criterio_g2 = df.query('auxilio == True and bolsa == False').discente.mean()\n",
        "criterio_g2"
      ],
      "metadata": {
        "id": "2jC-F74vxzLn",
        "outputId": "b62c9067-14e4-498b-e931-4f4fcf8cc83a",
        "colab": {
          "base_uri": "https://localhost:8080/"
        }
      },
      "execution_count": 62,
      "outputs": [
        {
          "output_type": "execute_result",
          "data": {
            "text/plain": [
              "0.6666666666666666"
            ]
          },
          "metadata": {},
          "execution_count": 62
        }
      ]
    },
    {
      "cell_type": "code",
      "source": [
        "# criterio_g3 = df.query('auxilio == True and bolsa == False').discente.mean()\n",
        "# criterio_g3"
      ],
      "metadata": {
        "id": "CCB12QMHx6m4"
      },
      "execution_count": 71,
      "outputs": []
    },
    {
      "cell_type": "code",
      "source": [
        "criterio_g4 = (df.query('auxilio == True and bolsa == False').sum(axis=0).iloc[1:-2] > 0).mean()\n",
        "criterio_g4"
      ],
      "metadata": {
        "id": "5_Rb-JOcyDoS",
        "outputId": "7bb6e5b6-b9b7-4112-e9ae-f9367c29c7c8",
        "colab": {
          "base_uri": "https://localhost:8080/"
        }
      },
      "execution_count": 64,
      "outputs": [
        {
          "output_type": "execute_result",
          "data": {
            "text/plain": [
              "0.5"
            ]
          },
          "metadata": {},
          "execution_count": 64
        }
      ]
    }
  ]
}