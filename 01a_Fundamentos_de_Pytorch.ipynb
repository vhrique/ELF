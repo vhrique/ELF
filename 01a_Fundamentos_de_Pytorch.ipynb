{
  "nbformat": 4,
  "nbformat_minor": 0,
  "metadata": {
    "colab": {
      "provenance": [],
      "authorship_tag": "ABX9TyN1aWxQQ/fEaU9PGRcoyivK",
      "include_colab_link": true
    },
    "kernelspec": {
      "name": "python3",
      "display_name": "Python 3"
    },
    "language_info": {
      "name": "python"
    }
  },
  "cells": [
    {
      "cell_type": "markdown",
      "metadata": {
        "id": "view-in-github",
        "colab_type": "text"
      },
      "source": [
        "<a href=\"https://colab.research.google.com/github/vhrique/ELF/blob/main/01a_Fundamentos_de_Pytorch.ipynb\" target=\"_parent\"><img src=\"https://colab.research.google.com/assets/colab-badge.svg\" alt=\"Open In Colab\"/></a>"
      ]
    },
    {
      "cell_type": "markdown",
      "source": [
        "# Fundamentos de Pytorch\n",
        "\n",
        "O material abaixo traz breves exemplos de operações em Pytorch.\n",
        "Ao final, também realizamos o treinamento de um _perceptron_ multicamadas."
      ],
      "metadata": {
        "id": "_w1xt32hAREo"
      }
    },
    {
      "cell_type": "markdown",
      "source": [
        "# Pacotes Utilizados"
      ],
      "metadata": {
        "id": "Xv8q_zJRJfAR"
      }
    },
    {
      "cell_type": "code",
      "execution_count": 1,
      "metadata": {
        "id": "CLbDbYLcJYpz"
      },
      "outputs": [],
      "source": [
        "import torch\n",
        "import matplotlib.pyplot as plt\n",
        "\n",
        "from sklearn.datasets import make_moons\n",
        "from sklearn.metrics import classification_report\n",
        "from torch.utils.data import DataLoader, TensorDataset"
      ]
    },
    {
      "cell_type": "markdown",
      "source": [
        "# Dispositivo"
      ],
      "metadata": {
        "id": "uGrG817gLa5N"
      }
    },
    {
      "cell_type": "code",
      "source": [
        "device = 'cuda' if torch.cuda.is_available() else 'cpu'\n",
        "print(f'Dispositivo atual: {device}')"
      ],
      "metadata": {
        "colab": {
          "base_uri": "https://localhost:8080/"
        },
        "id": "_ZlO53fSKA1a",
        "outputId": "e0f8a5d2-da4e-41f3-8a45-dd3aade28858"
      },
      "execution_count": 2,
      "outputs": [
        {
          "output_type": "stream",
          "name": "stdout",
          "text": [
            "Dispositivo atual: cpu\n"
          ]
        }
      ]
    },
    {
      "cell_type": "markdown",
      "source": [
        "# Variáveis"
      ],
      "metadata": {
        "id": "-9mAdP0uJeUy"
      }
    },
    {
      "cell_type": "code",
      "source": [
        "# Criando variáveis simples no PyTorch como tensores\n",
        "a = torch.tensor(5)  # Um tensor escalar\n",
        "b = torch.tensor([1.0, 2.0, 3.0])  # Um tensor de 1D (vetor)\n",
        "\n",
        "print(f\"Variável escalar: {a}\")\n",
        "print(f\"Variável vetor: {b}\")"
      ],
      "metadata": {
        "id": "p-J0DYXTJa7t",
        "outputId": "3438fb12-a6c9-4e90-b31a-d02a0558ad88",
        "colab": {
          "base_uri": "https://localhost:8080/"
        }
      },
      "execution_count": 3,
      "outputs": [
        {
          "output_type": "stream",
          "name": "stdout",
          "text": [
            "Variável escalar: 5\n",
            "Variável vetor: tensor([1., 2., 3.])\n"
          ]
        }
      ]
    },
    {
      "cell_type": "code",
      "source": [
        "# Também é possível criar variáveis com dimensões mais altas\n",
        "c = torch.tensor([[1, 2], [3, 4]])  # Um tensor 2D (matriz)\n",
        "\n",
        "print(f\"Variável matriz: \\n{c}\")"
      ],
      "metadata": {
        "id": "_HzUXwcI_ZNR",
        "outputId": "3ae4e8d6-bafd-4343-9ac6-e6b05f746456",
        "colab": {
          "base_uri": "https://localhost:8080/"
        }
      },
      "execution_count": 4,
      "outputs": [
        {
          "output_type": "stream",
          "name": "stdout",
          "text": [
            "Variável matriz: \n",
            "tensor([[1, 2],\n",
            "        [3, 4]])\n"
          ]
        }
      ]
    },
    {
      "cell_type": "code",
      "source": [
        "# Podemos criar tensores com tipos específicos\n",
        "d = torch.tensor([1.0, 2.0, 3.0], dtype=torch.float32)  # Um tensor com precisão em ponto flutuante\n",
        "\n",
        "print(f\"Variável de ponto flutuante: {d}\")"
      ],
      "metadata": {
        "id": "9Zn5Cgk4_asx",
        "outputId": "cb45d760-bf5c-41ee-bec2-8fb32073fc6e",
        "colab": {
          "base_uri": "https://localhost:8080/"
        }
      },
      "execution_count": 5,
      "outputs": [
        {
          "output_type": "stream",
          "name": "stdout",
          "text": [
            "Variável de ponto flutuante: tensor([1., 2., 3.])\n"
          ]
        }
      ]
    },
    {
      "cell_type": "markdown",
      "source": [
        "# Operações"
      ],
      "metadata": {
        "id": "ADDK1093Kt0v"
      }
    },
    {
      "cell_type": "code",
      "source": [
        "# Operações básicas com tensores\n",
        "x = torch.tensor([2.0, 3.0, 4.0])\n",
        "y = torch.tensor([1.0, 5.0, 7.0])"
      ],
      "metadata": {
        "id": "Hwqxfk8HLEuD"
      },
      "execution_count": 6,
      "outputs": []
    },
    {
      "cell_type": "code",
      "source": [
        "# Soma\n",
        "soma = x + y\n",
        "print(f\"Soma: {soma}\")\n",
        "\n",
        "# Subtração\n",
        "subtracao = x - y\n",
        "print(f\"Subtração: {subtracao}\")"
      ],
      "metadata": {
        "colab": {
          "base_uri": "https://localhost:8080/"
        },
        "id": "HyChNDEoLJvr",
        "outputId": "8adb7ab5-f3b8-4e20-bf77-6919826f33ae"
      },
      "execution_count": 7,
      "outputs": [
        {
          "output_type": "stream",
          "name": "stdout",
          "text": [
            "Soma: tensor([ 3.,  8., 11.])\n",
            "Subtração: tensor([ 1., -2., -3.])\n"
          ]
        }
      ]
    },
    {
      "cell_type": "code",
      "source": [
        "# Multiplicação\n",
        "multiplicacao = x * y\n",
        "print(f\"Multiplicação: {multiplicacao}\")\n",
        "\n",
        "# Divisão\n",
        "divisao = x / y\n",
        "print(f\"Divisão: {divisao}\")"
      ],
      "metadata": {
        "colab": {
          "base_uri": "https://localhost:8080/"
        },
        "id": "2_yK95n5JvYL",
        "outputId": "57035586-9547-47fe-ca2a-37c53f9266f5"
      },
      "execution_count": 8,
      "outputs": [
        {
          "output_type": "stream",
          "name": "stdout",
          "text": [
            "Multiplicação: tensor([ 2., 15., 28.])\n",
            "Divisão: tensor([2.0000, 0.6000, 0.5714])\n"
          ]
        }
      ]
    },
    {
      "cell_type": "code",
      "source": [
        "# Produto escalar\n",
        "produto_escalar = torch.dot(x, y)\n",
        "print(f\"Produto escalar: {produto_escalar}\")"
      ],
      "metadata": {
        "colab": {
          "base_uri": "https://localhost:8080/"
        },
        "id": "MzHjOKk5LkMg",
        "outputId": "83abbfe1-fd14-46a0-c5c9-189a7368bb62"
      },
      "execution_count": 9,
      "outputs": [
        {
          "output_type": "stream",
          "name": "stdout",
          "text": [
            "Produto escalar: 45.0\n"
          ]
        }
      ]
    },
    {
      "cell_type": "code",
      "source": [
        "# Funções matemáticas\n",
        "exp = torch.exp(x)  # Exponencial\n",
        "print(f\"Exponencial: {exp}\")"
      ],
      "metadata": {
        "colab": {
          "base_uri": "https://localhost:8080/"
        },
        "id": "uO7YxQIULnz2",
        "outputId": "846a71f5-b30a-4695-85ea-b6644b498699"
      },
      "execution_count": 10,
      "outputs": [
        {
          "output_type": "stream",
          "name": "stdout",
          "text": [
            "Exponencial: tensor([ 7.3891, 20.0855, 54.5981])\n"
          ]
        }
      ]
    },
    {
      "cell_type": "code",
      "source": [
        "# Criando matrizes (tensores 2D)\n",
        "A = torch.tensor([[1.0, 2.0], [3.0, 4.0]])  # Matriz 2x2\n",
        "B = torch.tensor([[5.0, 6.0], [7.0, 8.0]])  # Outra Matriz 2x2\n",
        "\n",
        "# Multiplicação elemento a elemento (Hadamard product)\n",
        "elementwise_mult = A * B\n",
        "print(f\"Multiplicação elemento a elemento: \\n{elementwise_mult}\")"
      ],
      "metadata": {
        "id": "u01IDkogC-IF",
        "outputId": "f59aa05e-0e4e-4b70-ff0f-2de28ef8baf6",
        "colab": {
          "base_uri": "https://localhost:8080/"
        }
      },
      "execution_count": 11,
      "outputs": [
        {
          "output_type": "stream",
          "name": "stdout",
          "text": [
            "Multiplicação elemento a elemento: \n",
            "tensor([[ 5., 12.],\n",
            "        [21., 32.]])\n"
          ]
        }
      ]
    },
    {
      "cell_type": "code",
      "source": [
        "# Multiplicação de matrizes (produto de matrizes)\n",
        "matrix_mult = torch.matmul(A, B)\n",
        "print(f\"Multiplicação de matrizes: \\n{matrix_mult}\")"
      ],
      "metadata": {
        "id": "q0HaXZZdDGq7",
        "outputId": "47f5820f-9263-4102-be78-809ba19f85bf",
        "colab": {
          "base_uri": "https://localhost:8080/"
        }
      },
      "execution_count": 12,
      "outputs": [
        {
          "output_type": "stream",
          "name": "stdout",
          "text": [
            "Multiplicação de matrizes: \n",
            "tensor([[19., 22.],\n",
            "        [43., 50.]])\n"
          ]
        }
      ]
    },
    {
      "cell_type": "code",
      "source": [
        "# Transposição de matriz\n",
        "A_transpose = torch.transpose(A, 0, 1)\n",
        "print(f\"Transposta da matriz A: \\n{A_transpose}\")"
      ],
      "metadata": {
        "id": "GLJhTi9sDIhM",
        "outputId": "eb0a3d52-c283-4751-9ae4-84a39842a07e",
        "colab": {
          "base_uri": "https://localhost:8080/"
        }
      },
      "execution_count": 13,
      "outputs": [
        {
          "output_type": "stream",
          "name": "stdout",
          "text": [
            "Transposta da matriz A: \n",
            "tensor([[1., 3.],\n",
            "        [2., 4.]])\n"
          ]
        }
      ]
    },
    {
      "cell_type": "code",
      "source": [
        "# Inversão de uma matriz (usando tensores quadrados invertíveis)\n",
        "A_inv = torch.inverse(A)\n",
        "print(f\"Inversa da matriz A: \\n{A_inv}\")"
      ],
      "metadata": {
        "id": "xnJwVmrKDLRV",
        "outputId": "522698f5-295f-4eae-897b-b4cf90f58d1c",
        "colab": {
          "base_uri": "https://localhost:8080/"
        }
      },
      "execution_count": 14,
      "outputs": [
        {
          "output_type": "stream",
          "name": "stdout",
          "text": [
            "Inversa da matriz A: \n",
            "tensor([[-2.0000,  1.0000],\n",
            "        [ 1.5000, -0.5000]])\n"
          ]
        }
      ]
    },
    {
      "cell_type": "code",
      "source": [
        "# Produto de uma matriz com sua transposta\n",
        "A_mult_transpose = torch.matmul(A, A_transpose)\n",
        "print(f\"Produto de A com sua transposta: \\n{A_mult_transpose}\")"
      ],
      "metadata": {
        "id": "iDomz2QTDNxf",
        "outputId": "d96df893-97c0-4c30-b290-2d172fb2073f",
        "colab": {
          "base_uri": "https://localhost:8080/"
        }
      },
      "execution_count": 15,
      "outputs": [
        {
          "output_type": "stream",
          "name": "stdout",
          "text": [
            "Produto de A com sua transposta: \n",
            "tensor([[ 5., 11.],\n",
            "        [11., 25.]])\n"
          ]
        }
      ]
    },
    {
      "cell_type": "markdown",
      "source": [
        "# Redes Neurais"
      ],
      "metadata": {
        "id": "2n3ZZLO1L8H-"
      }
    },
    {
      "cell_type": "markdown",
      "source": [
        "## Representação"
      ],
      "metadata": {
        "id": "oZ8ZDqtlMBUG"
      }
    },
    {
      "cell_type": "code",
      "source": [
        "class MLP(torch.nn.Module):\n",
        "    def __init__(self, input_size, hidden_size):\n",
        "        super(MLP, self).__init__()\n",
        "        self.hidden_layer = torch.nn.Linear(input_size, hidden_size)\n",
        "        self.output_layer = torch.nn.Linear(hidden_size, 1)\n",
        "\n",
        "    def forward(self, x):\n",
        "        x = torch.nn.functional.sigmoid(self.hidden_layer(x))\n",
        "        return torch.nn.functional.sigmoid(self.output_layer(x))\n"
      ],
      "metadata": {
        "id": "AnL2pqfWL639"
      },
      "execution_count": 16,
      "outputs": []
    },
    {
      "cell_type": "code",
      "source": [
        "model = MLP(2, 3)"
      ],
      "metadata": {
        "id": "N4hVd-U2MrA3"
      },
      "execution_count": 42,
      "outputs": []
    },
    {
      "cell_type": "code",
      "source": [
        "model(torch.Tensor([[0, 0]]))"
      ],
      "metadata": {
        "colab": {
          "base_uri": "https://localhost:8080/"
        },
        "id": "pQiHCbRpM6jL",
        "outputId": "0f76b139-b040-4011-a5db-009ed8f32354"
      },
      "execution_count": 43,
      "outputs": [
        {
          "output_type": "execute_result",
          "data": {
            "text/plain": [
              "tensor([[0.5567]], grad_fn=<SigmoidBackward0>)"
            ]
          },
          "metadata": {},
          "execution_count": 43
        }
      ]
    },
    {
      "cell_type": "markdown",
      "source": [
        "## Loss e Otimizador"
      ],
      "metadata": {
        "id": "j46s0mhSOSr-"
      }
    },
    {
      "cell_type": "code",
      "source": [
        "criterion = torch.nn.BCELoss()\n",
        "optimizer = torch.optim.Adam(model.parameters(), lr=1e-2)"
      ],
      "metadata": {
        "id": "JhMUW3OQOQCI"
      },
      "execution_count": 44,
      "outputs": []
    },
    {
      "cell_type": "markdown",
      "source": [
        "## Dataset"
      ],
      "metadata": {
        "id": "LOa2wt7sDa2z"
      }
    },
    {
      "cell_type": "code",
      "source": [
        "X, y = make_moons(n_samples=200, noise=0.1, random_state=42)\n",
        "\n",
        "X = torch.tensor(X, dtype=torch.float32)\n",
        "y = torch.tensor(y, dtype=torch.float32).unsqueeze(1)\n",
        "\n",
        "dataset = TensorDataset(X, y)\n",
        "dataloader = DataLoader(dataset, batch_size=32, shuffle=True)"
      ],
      "metadata": {
        "id": "zLHdo17VNs5x"
      },
      "execution_count": 45,
      "outputs": []
    },
    {
      "cell_type": "markdown",
      "source": [
        "## Treinamento"
      ],
      "metadata": {
        "id": "lCg1iiVPOfOj"
      }
    },
    {
      "cell_type": "code",
      "source": [
        "num_epochs = 2_000\n",
        "loss_logs = []\n",
        "\n",
        "for epoch in range(num_epochs):\n",
        "\n",
        "    # Start epoch loss\n",
        "    running_loss = 0.0\n",
        "\n",
        "    for b, (X_batch, y_batch) in enumerate(dataloader):\n",
        "\n",
        "        # Forward pass\n",
        "        outputs = model(X_batch)\n",
        "        loss = criterion(outputs, y_batch)\n",
        "\n",
        "        # Backward pass and optimization\n",
        "        optimizer.zero_grad()\n",
        "        loss.backward()\n",
        "        optimizer.step()\n",
        "\n",
        "        # Update running loss\n",
        "        running_loss += loss.item()\n",
        "\n",
        "    # Update epoch loss\n",
        "    loss_logs.append(running_loss/b)\n",
        "\n",
        "# Plot loss\n",
        "plt.plot(loss_logs)\n",
        "plt.ylabel('Loss')\n",
        "plt.xlabel('Epoch')\n",
        "plt.show()"
      ],
      "metadata": {
        "colab": {
          "base_uri": "https://localhost:8080/",
          "height": 449
        },
        "id": "iBXVSRQNOeSZ",
        "outputId": "8e57a32e-df06-4168-c9ea-d36d09c1020e"
      },
      "execution_count": 46,
      "outputs": [
        {
          "output_type": "display_data",
          "data": {
            "text/plain": [
              "<Figure size 640x480 with 1 Axes>"
            ],
            "image/png": "[encoded data removed]"
          },
          "metadata": {}
        }
      ]
    },
    {
      "cell_type": "markdown",
      "source": [
        "## Avaliação"
      ],
      "metadata": {
        "id": "0W8UDLVCOz1H"
      }
    },
    {
      "cell_type": "code",
      "source": [
        "with torch.no_grad():\n",
        "    outputs = model(X)\n",
        "\n",
        "print(\n",
        "    classification_report(\n",
        "        y.detach().numpy(),\n",
        "        outputs.detach().numpy() > 0.5\n",
        "    )\n",
        ")"
      ],
      "metadata": {
        "colab": {
          "base_uri": "https://localhost:8080/"
        },
        "id": "qEMEm7NvOyZI",
        "outputId": "1b5e564d-2cde-4b91-81d7-036608da5731"
      },
      "execution_count": 47,
      "outputs": [
        {
          "output_type": "stream",
          "name": "stdout",
          "text": [
            "              precision    recall  f1-score   support\n",
            "\n",
            "         0.0       1.00      1.00      1.00       100\n",
            "         1.0       1.00      1.00      1.00       100\n",
            "\n",
            "    accuracy                           1.00       200\n",
            "   macro avg       1.00      1.00      1.00       200\n",
            "weighted avg       1.00      1.00      1.00       200\n",
            "\n"
          ]
        }
      ]
    }
  ]
}