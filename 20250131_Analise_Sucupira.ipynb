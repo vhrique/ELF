{
  "nbformat": 4,
  "nbformat_minor": 0,
  "metadata": {
    "colab": {
      "provenance": [],
      "authorship_tag": "ABX9TyOyv4zPWGENS0SbFJTxBT/O",
      "include_colab_link": true
    },
    "kernelspec": {
      "name": "python3",
      "display_name": "Python 3"
    },
    "language_info": {
      "name": "python"
    }
  },
  "cells": [
    {
      "cell_type": "markdown",
      "metadata": {
        "id": "view-in-github",
        "colab_type": "text"
      },
      "source": [
        "<a href=\"https://colab.research.google.com/github/vhrique/ELF/blob/main/20250131_Analise_Sucupira.ipynb\" target=\"_parent\"><img src=\"https://colab.research.google.com/assets/colab-badge.svg\" alt=\"Open In Colab\"/></a>"
      ]
    },
    {
      "cell_type": "code",
      "execution_count": 1,
      "metadata": {
        "id": "pS58F85Ywj5K"
      },
      "outputs": [],
      "source": [
        "import pandas as pd\n",
        "import numpy as np"
      ]
    },
    {
      "cell_type": "code",
      "source": [
        "planilhas = {\n",
        "    '2021': 'https://drive.google.com/uc?export=download&id=1aY-35G2D8oFIwY9UtxaUP9K00Cz72Tf9',\n",
        "    '2022': 'https://drive.google.com/uc?export=download&id=14QUdOCIMWLOL3De60GKPkvlgxzaMCDPz',\n",
        "    '2023': 'https://drive.google.com/uc?export=download&id=1C2qkNL1N9B6Q6wUh33kbkQ8QRySnEfnZ',\n",
        "    # '2024': 'https://drive.google.com/uc?export=download&id=1WLvc4wt8RsiN2Ob6UWjGq9SodFvQORCj',\n",
        "}"
      ],
      "metadata": {
        "id": "Q3gBZilQwxLx"
      },
      "execution_count": 2,
      "outputs": []
    },
    {
      "cell_type": "code",
      "source": [
        "df_dict = {}\n",
        "for ano in planilhas:\n",
        "    df_dict[ano] = pd.read_excel(planilhas[ano], sheet_name=None)"
      ],
      "metadata": {
        "id": "ojos5l2fyDdr"
      },
      "execution_count": 87,
      "outputs": []
    },
    {
      "cell_type": "code",
      "source": [
        "docentes_permanentes = []\n",
        "for ano in df_dict:\n",
        "    new_df = df_dict[ano]['Docentes'].query('Categoria == \"PERMANENTE\"')\n",
        "    docentes_permanentes.extend(new_df['Nome Docente'].tolist())\n",
        "docentes_permanentes = set(docentes_permanentes)"
      ],
      "metadata": {
        "id": "Y_ClpdKvY25A"
      },
      "execution_count": 88,
      "outputs": []
    },
    {
      "cell_type": "code",
      "source": [
        "dfs = []\n",
        "for ano in df_dict:\n",
        "    new_df = df_dict[ano]['Projetos - Membros']\n",
        "    new_df['Ano da Coleta'] = ano\n",
        "    dfs.append(new_df)\n",
        "df_projeto_membros = pd.concat(dfs).reset_index(drop=True)"
      ],
      "metadata": {
        "id": "2awym1pSyOao"
      },
      "execution_count": 63,
      "outputs": []
    },
    {
      "cell_type": "code",
      "source": [
        "dfs = []\n",
        "for ano in df_dict:\n",
        "    new_df = df_dict[ano]['Projetos - Financiadores']\n",
        "    new_df['Ano da Coleta'] = ano\n",
        "    dfs.append(new_df)\n",
        "df_projeto_financiadores = pd.concat(dfs).reset_index(drop=True)"
      ],
      "metadata": {
        "id": "p8IKL0X9zrf_"
      },
      "execution_count": 64,
      "outputs": []
    },
    {
      "cell_type": "code",
      "source": [
        "dfs = []\n",
        "for ano in df_dict:\n",
        "    new_df = df_dict[ano]['Linhas de Pesquisa - Projetos']\n",
        "    new_df['Ano da Coleta'] = ano\n",
        "    dfs.append(new_df)\n",
        "df_projeto_linhas = pd.concat(dfs).reset_index(drop=True)"
      ],
      "metadata": {
        "id": "aBlZju5aWj-_"
      },
      "execution_count": 65,
      "outputs": []
    },
    {
      "cell_type": "code",
      "source": [
        "for i, row in df_projeto_financiadores.iterrows():\n",
        "    df_projeto_financiadores.loc[i,'Nome do Projeto de Pesquisa'] = df_projeto_financiadores.loc[i,'Nome do Projeto de Pesquisa'].replace('\"','')\n",
        "\n",
        "for i, row in df_projeto_membros.iterrows():\n",
        "    df_projeto_membros.loc[i,'Nome do Projeto de Pesquisa'] = df_projeto_membros.loc[i,'Nome do Projeto de Pesquisa'].replace('\"','')"
      ],
      "metadata": {
        "id": "s57Bn4v1RKwW"
      },
      "execution_count": 48,
      "outputs": []
    },
    {
      "cell_type": "code",
      "source": [
        "projetos_financiados = df_projeto_financiadores['Nome do Projeto de Pesquisa'].unique().tolist()\n",
        "projetos_com_membros = df_projeto_membros['Nome do Projeto de Pesquisa'].unique().tolist()\n",
        "projetos_com_lp = df_projeto_linhas['Nome do Projeto de Pesquisa'].unique().tolist()\n",
        "projetos_todos = list(set(projetos_financiados + projetos_com_membros + projetos_com_lp))"
      ],
      "metadata": {
        "id": "DjwfK5j92QUT"
      },
      "execution_count": 66,
      "outputs": []
    },
    {
      "cell_type": "code",
      "source": [
        "df = pd.DataFrame({\n",
        "    'Projeto': projetos_todos\n",
        "})"
      ],
      "metadata": {
        "id": "Kkehk0bWRd1H"
      },
      "execution_count": 68,
      "outputs": []
    },
    {
      "cell_type": "code",
      "source": [
        "for i, row in df.iterrows():\n",
        "    df_query = df_projeto_membros.loc[df_projeto_membros[\"Nome do Projeto de Pesquisa\"] == row.Projeto]\n",
        "    df.loc[i, 'Discente'] = 'Discente' in df_query['Categoria do Membro do Projeto'].tolist()"
      ],
      "metadata": {
        "id": "xxflwUrqSN2m"
      },
      "execution_count": 69,
      "outputs": []
    },
    {
      "cell_type": "code",
      "source": [
        "for i, row in df.iterrows():\n",
        "    df_query = df_projeto_financiadores.loc[df_projeto_financiadores[\"Nome do Projeto de Pesquisa\"] == row.Projeto]\n",
        "    df.loc[i, 'Financiado'] = 'OUTRO AUXÍLIO FINANCEIRO' in df_query['Natureza do Financiador'].tolist()"
      ],
      "metadata": {
        "id": "ML5GqdH0ULQf"
      },
      "execution_count": 70,
      "outputs": []
    },
    {
      "cell_type": "code",
      "source": [
        "for i, row in df.iterrows():\n",
        "    df_query = df_projeto_linhas.loc[df_projeto_linhas[\"Nome do Projeto de Pesquisa\"] == row.Projeto]\n",
        "    df.loc[i, 'CDIAC'] = 'CIÊNCIA DE DADOS, INTELIGÊNCIA ARTIFICIAL E CONTROLE' in df_query['Linha de Pesquisa'].tolist()\n",
        "    df.loc[i, 'GP'] = 'GESTÃO DE OPERAÇÕES' in df_query['Linha de Pesquisa'].tolist()\n",
        "    df.loc[i, 'IDP'] = 'INOVAÇÃO E DESENVOLVIMENTO DE PRODUTO' in df_query['Linha de Pesquisa'].tolist()\n",
        "    df.loc[i, 'IAS'] = 'INTEGRAÇÃO E AUTOMAÇÃO DE SISTEMAS' in df_query['Linha de Pesquisa'].tolist()\n",
        "df['LP'] = df[['CDIAC', 'GP','IDP','IAS']].any(axis=1)"
      ],
      "metadata": {
        "id": "BZNqj32OWb7n"
      },
      "execution_count": 76,
      "outputs": []
    },
    {
      "cell_type": "code",
      "source": [
        "G1 = df.query('Financiado == True').LP.mean()\n",
        "G1"
      ],
      "metadata": {
        "colab": {
          "base_uri": "https://localhost:8080/"
        },
        "id": "r7rB-IoDUkAv",
        "outputId": "16dd4561-2031-488e-c769-10465887ea50"
      },
      "execution_count": 82,
      "outputs": [
        {
          "output_type": "execute_result",
          "data": {
            "text/plain": [
              "1.0"
            ]
          },
          "metadata": {},
          "execution_count": 82
        }
      ]
    },
    {
      "cell_type": "code",
      "source": [
        "G2 = df.query('Financiado == True and LP == True').Discente.mean()\n",
        "G2"
      ],
      "metadata": {
        "colab": {
          "base_uri": "https://localhost:8080/"
        },
        "id": "Ovk9KYEqYBpI",
        "outputId": "eeeaa2e7-ad4c-4320-f0bb-9977db74bbe5"
      },
      "execution_count": 83,
      "outputs": [
        {
          "output_type": "execute_result",
          "data": {
            "text/plain": [
              "0.96"
            ]
          },
          "metadata": {},
          "execution_count": 83
        }
      ]
    },
    {
      "cell_type": "code",
      "source": [
        "G3 = 0\n",
        "for docente in docentes_permanentes:\n",
        "    for projeto in df.query('Financiado == True').Projeto.tolist():\n",
        "        df_query = df_projeto_membros.loc[df_projeto_membros[\"Nome do Projeto de Pesquisa\"] == projeto]\n",
        "        if docente in df_query['Nome do Membro do Projeto'].tolist():\n",
        "            G3 += 1\n",
        "            break\n",
        "G3 = G3 / len(docentes_permanentes)\n",
        "G3"
      ],
      "metadata": {
        "colab": {
          "base_uri": "https://localhost:8080/"
        },
        "id": "6qmDukOMYfGY",
        "outputId": "6005582e-f2fa-40a8-fe33-23a46679e655"
      },
      "execution_count": 102,
      "outputs": [
        {
          "output_type": "execute_result",
          "data": {
            "text/plain": [
              "1.0"
            ]
          },
          "metadata": {},
          "execution_count": 102
        }
      ]
    },
    {
      "cell_type": "code",
      "source": [
        "G4 = df[['CDIAC', 'GP','IDP','IAS']].any(axis=0).mean()\n",
        "G4"
      ],
      "metadata": {
        "colab": {
          "base_uri": "https://localhost:8080/"
        },
        "id": "z3wbVI7kYH3g",
        "outputId": "724dba48-a338-4edc-883e-35a0a6f01d5e"
      },
      "execution_count": 86,
      "outputs": [
        {
          "output_type": "execute_result",
          "data": {
            "text/plain": [
              "1.0"
            ]
          },
          "metadata": {},
          "execution_count": 86
        }
      ]
    }
  ]
}