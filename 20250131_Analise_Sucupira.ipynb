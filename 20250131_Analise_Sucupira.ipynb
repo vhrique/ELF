{
  "nbformat": 4,
  "nbformat_minor": 0,
  "metadata": {
    "colab": {
      "provenance": [],
      "authorship_tag": "ABX9TyMFZBnXey3aYC4BtkVoBT1Q",
      "include_colab_link": true
    },
    "kernelspec": {
      "name": "python3",
      "display_name": "Python 3"
    },
    "language_info": {
      "name": "python"
    }
  },
  "cells": [
    {
      "cell_type": "markdown",
      "metadata": {
        "id": "view-in-github",
        "colab_type": "text"
      },
      "source": [
        "<a href=\"https://colab.research.google.com/github/vhrique/ELF/blob/main/20250131_Analise_Sucupira.ipynb\" target=\"_parent\"><img src=\"https://colab.research.google.com/assets/colab-badge.svg\" alt=\"Open In Colab\"/></a>"
      ]
    },
    {
      "cell_type": "code",
      "execution_count": 1,
      "metadata": {
        "id": "pS58F85Ywj5K"
      },
      "outputs": [],
      "source": [
        "import pandas as pd\n",
        "import numpy as np"
      ]
    },
    {
      "cell_type": "code",
      "source": [
        "planilhas = {\n",
        "    '2021': 'https://drive.google.com/uc?export=download&id=1aY-35G2D8oFIwY9UtxaUP9K00Cz72Tf9',\n",
        "    '2022': 'https://drive.google.com/uc?export=download&id=14QUdOCIMWLOL3De60GKPkvlgxzaMCDPz',\n",
        "    '2023': 'https://drive.google.com/uc?export=download&id=1C2qkNL1N9B6Q6wUh33kbkQ8QRySnEfnZ',\n",
        "    # '2024': 'https://drive.google.com/uc?export=download&id=1WLvc4wt8RsiN2Ob6UWjGq9SodFvQORCj',\n",
        "}"
      ],
      "metadata": {
        "id": "Q3gBZilQwxLx"
      },
      "execution_count": 2,
      "outputs": []
    },
    {
      "cell_type": "code",
      "source": [
        "df_dict = {}\n",
        "for ano in planilhas:\n",
        "    df_dict[ano] = pd.read_excel(planilhas[ano], sheet_name=None)"
      ],
      "metadata": {
        "id": "ojos5l2fyDdr"
      },
      "execution_count": 87,
      "outputs": []
    },
    {
      "cell_type": "code",
      "source": [
        "docentes_permanentes = []\n",
        "for ano in df_dict:\n",
        "    new_df = df_dict[ano]['Docentes'].query('Categoria == \"PERMANENTE\"')\n",
        "    docentes_permanentes.extend(new_df['Nome Docente'].tolist())\n",
        "docentes_permanentes = set(docentes_permanentes)"
      ],
      "metadata": {
        "id": "Y_ClpdKvY25A"
      },
      "execution_count": 88,
      "outputs": []
    },
    {
      "cell_type": "code",
      "source": [
        "dfs = []\n",
        "for ano in df_dict:\n",
        "    new_df = df_dict[ano]['Projetos - Membros']\n",
        "    new_df['Ano da Coleta'] = ano\n",
        "    dfs.append(new_df)\n",
        "df_projeto_membros = pd.concat(dfs).reset_index(drop=True)"
      ],
      "metadata": {
        "id": "2awym1pSyOao"
      },
      "execution_count": 63,
      "outputs": []
    },
    {
      "cell_type": "code",
      "source": [
        "dfs = []\n",
        "for ano in df_dict:\n",
        "    new_df = df_dict[ano]['Projetos - Financiadores']\n",
        "    new_df['Ano da Coleta'] = ano\n",
        "    dfs.append(new_df)\n",
        "df_projeto_financiadores = pd.concat(dfs).reset_index(drop=True)"
      ],
      "metadata": {
        "id": "p8IKL0X9zrf_"
      },
      "execution_count": 64,
      "outputs": []
    },
    {
      "cell_type": "code",
      "source": [
        "dfs = []\n",
        "for ano in df_dict:\n",
        "    new_df = df_dict[ano]['Linhas de Pesquisa - Projetos']\n",
        "    new_df['Ano da Coleta'] = ano\n",
        "    dfs.append(new_df)\n",
        "df_projeto_linhas = pd.concat(dfs).reset_index(drop=True)"
      ],
      "metadata": {
        "id": "aBlZju5aWj-_"
      },
      "execution_count": 65,
      "outputs": []
    },
    {
      "cell_type": "code",
      "source": [
        "for i, row in df_projeto_financiadores.iterrows():\n",
        "    df_projeto_financiadores.loc[i,'Nome do Projeto de Pesquisa'] = df_projeto_financiadores.loc[i,'Nome do Projeto de Pesquisa'].replace('\"','')\n",
        "\n",
        "for i, row in df_projeto_membros.iterrows():\n",
        "    df_projeto_membros.loc[i,'Nome do Projeto de Pesquisa'] = df_projeto_membros.loc[i,'Nome do Projeto de Pesquisa'].replace('\"','')"
      ],
      "metadata": {
        "id": "s57Bn4v1RKwW"
      },
      "execution_count": 48,
      "outputs": []
    },
    {
      "cell_type": "code",
      "source": [
        "projetos_financiados = df_projeto_financiadores['Nome do Projeto de Pesquisa'].unique().tolist()\n",
        "projetos_com_membros = df_projeto_membros['Nome do Projeto de Pesquisa'].unique().tolist()\n",
        "projetos_com_lp = df_projeto_linhas['Nome do Projeto de Pesquisa'].unique().tolist()\n",
        "projetos_todos = list(set(projetos_financiados + projetos_com_membros + projetos_com_lp))"
      ],
      "metadata": {
        "id": "DjwfK5j92QUT"
      },
      "execution_count": 66,
      "outputs": []
    },
    {
      "cell_type": "code",
      "source": [
        "df = pd.DataFrame({\n",
        "    'Projeto': projetos_todos\n",
        "})"
      ],
      "metadata": {
        "id": "Kkehk0bWRd1H"
      },
      "execution_count": 68,
      "outputs": []
    },
    {
      "cell_type": "code",
      "source": [
        "for i, row in df.iterrows():\n",
        "    df_query = df_projeto_membros.loc[df_projeto_membros[\"Nome do Projeto de Pesquisa\"] == row.Projeto]\n",
        "    df.loc[i, 'Discente'] = 'Discente' in df_query['Categoria do Membro do Projeto'].tolist()"
      ],
      "metadata": {
        "id": "xxflwUrqSN2m"
      },
      "execution_count": 69,
      "outputs": []
    },
    {
      "cell_type": "code",
      "source": [
        "for i, row in df.iterrows():\n",
        "    df_query = df_projeto_financiadores.loc[df_projeto_financiadores[\"Nome do Projeto de Pesquisa\"] == row.Projeto]\n",
        "    df.loc[i, 'Financiado'] = 'OUTRO AUXÍLIO FINANCEIRO' in df_query['Natureza do Financiador'].tolist()"
      ],
      "metadata": {
        "id": "ML5GqdH0ULQf"
      },
      "execution_count": 70,
      "outputs": []
    },
    {
      "cell_type": "code",
      "source": [
        "for i, row in df.iterrows():\n",
        "    df_query = df_projeto_linhas.loc[df_projeto_linhas[\"Nome do Projeto de Pesquisa\"] == row.Projeto]\n",
        "    df.loc[i, 'CDIAC'] = 'CIÊNCIA DE DADOS, INTELIGÊNCIA ARTIFICIAL E CONTROLE' in df_query['Linha de Pesquisa'].tolist()\n",
        "    df.loc[i, 'GP'] = 'GESTÃO DE OPERAÇÕES' in df_query['Linha de Pesquisa'].tolist()\n",
        "    df.loc[i, 'IDP'] = 'INOVAÇÃO E DESENVOLVIMENTO DE PRODUTO' in df_query['Linha de Pesquisa'].tolist()\n",
        "    df.loc[i, 'IAS'] = 'INTEGRAÇÃO E AUTOMAÇÃO DE SISTEMAS' in df_query['Linha de Pesquisa'].tolist()\n",
        "df['LP'] = df[['CDIAC', 'GP','IDP','IAS']].any(axis=1)"
      ],
      "metadata": {
        "id": "BZNqj32OWb7n"
      },
      "execution_count": 76,
      "outputs": []
    },
    {
      "cell_type": "code",
      "source": [
        "G1 = df.query('Financiado == True').LP.mean()\n",
        "G1"
      ],
      "metadata": {
        "id": "r7rB-IoDUkAv",
        "outputId": "16dd4561-2031-488e-c769-10465887ea50",
        "colab": {
          "base_uri": "https://localhost:8080/"
        }
      },
      "execution_count": 82,
      "outputs": [
        {
          "output_type": "execute_result",
          "data": {
            "text/plain": [
              "1.0"
            ]
          },
          "metadata": {},
          "execution_count": 82
        }
      ]
    },
    {
      "cell_type": "code",
      "source": [
        "G2 = df.query('Financiado == True and LP == True').Discente.mean()\n",
        "G2"
      ],
      "metadata": {
        "id": "Ovk9KYEqYBpI",
        "outputId": "eeeaa2e7-ad4c-4320-f0bb-9977db74bbe5",
        "colab": {
          "base_uri": "https://localhost:8080/"
        }
      },
      "execution_count": 83,
      "outputs": [
        {
          "output_type": "execute_result",
          "data": {
            "text/plain": [
              "0.96"
            ]
          },
          "metadata": {},
          "execution_count": 83
        }
      ]
    },
    {
      "cell_type": "code",
      "source": [
        "df_query"
      ],
      "metadata": {
        "id": "M0f72Kksarcx",
        "outputId": "1e72698e-6df4-44f0-a996-3db2b607562b",
        "colab": {
          "base_uri": "https://localhost:8080/",
          "height": 519
        }
      },
      "execution_count": 94,
      "outputs": [
        {
          "output_type": "execute_result",
          "data": {
            "text/plain": [
              "                           Nome do Projeto de Pesquisa Data de Início  \\\n",
              "232  PROJETO PARA A CONCEPÇÃO E DESENVOLVIMENTO DE ...     12/01/2021   \n",
              "233  PROJETO PARA A CONCEPÇÃO E DESENVOLVIMENTO DE ...     12/01/2021   \n",
              "234  PROJETO PARA A CONCEPÇÃO E DESENVOLVIMENTO DE ...     12/01/2021   \n",
              "585  PROJETO PARA A CONCEPÇÃO E DESENVOLVIMENTO DE ...     12/01/2021   \n",
              "586  PROJETO PARA A CONCEPÇÃO E DESENVOLVIMENTO DE ...     12/01/2021   \n",
              "\n",
              "    Natureza do Projeto de Pesquisa      Situação Data da Situação  \\\n",
              "232                        PESQUISA  EM ANDAMENTO       12/01/2021   \n",
              "233                        PESQUISA  EM ANDAMENTO       12/01/2021   \n",
              "234                        PESQUISA  EM ANDAMENTO       12/01/2021   \n",
              "585                        PESQUISA     CONCLUÍDO       31/12/2022   \n",
              "586                        PESQUISA     CONCLUÍDO       31/12/2022   \n",
              "\n",
              "    Data de Início da Linha de Pesquisa                   Linha de Pesquisa  \\\n",
              "232                          12/01/2021  INTEGRAÇÃO E AUTOMAÇÃO DE SISTEMAS   \n",
              "233                          12/01/2021  INTEGRAÇÃO E AUTOMAÇÃO DE SISTEMAS   \n",
              "234                          12/01/2021  INTEGRAÇÃO E AUTOMAÇÃO DE SISTEMAS   \n",
              "585                          12/01/2021  INTEGRAÇÃO E AUTOMAÇÃO DE SISTEMAS   \n",
              "586                          12/01/2021  INTEGRAÇÃO E AUTOMAÇÃO DE SISTEMAS   \n",
              "\n",
              "                 Área de Concentração  Identificador da Pessoa do Membro  \\\n",
              "232  AUTOMAÇÃO E CONTROLE DE SISTEMAS                           540250.0   \n",
              "233  AUTOMAÇÃO E CONTROLE DE SISTEMAS                          3861537.0   \n",
              "234  AUTOMAÇÃO E CONTROLE DE SISTEMAS                           124896.0   \n",
              "585  AUTOMAÇÃO E CONTROLE DE SISTEMAS                                NaN   \n",
              "586  AUTOMAÇÃO E CONTROLE DE SISTEMAS                                NaN   \n",
              "\n",
              "           Nome do Membro do Projeto Categoria do Membro do Projeto  \\\n",
              "232             ANDERSON LUIS SZEJKA                        Docente   \n",
              "233  JOSE MAURICIO MOTTIN DE ANDRADE                       Discente   \n",
              "234                TIAGO FRANCESCONI           Participante Externo   \n",
              "585             ANDERSON LUIS SZEJKA                        Docente   \n",
              "586                TIAGO FRANCESCONI           Participante Externo   \n",
              "\n",
              "    Membro Responsável Data Início do Membro Data Fim do Membro Ano da Coleta  \n",
              "232                Sim            12/01/2021         31/12/2022          2021  \n",
              "233                Não            12/01/2021         12/11/2021          2021  \n",
              "234                Não            12/01/2021         31/12/2022          2021  \n",
              "585                Sim            12/01/2021         31/12/2022          2022  \n",
              "586                Não            12/01/2021         31/12/2022          2022  "
            ],
            "text/html": [
              "\n",
              "  <div id=\"df-3b86d859-958b-4d6b-8a8d-0c99bcfc8248\" class=\"colab-df-container\">\n",
              "    <div>\n",
              "<style scoped>\n",
              "    .dataframe tbody tr th:only-of-type {\n",
              "        vertical-align: middle;\n",
              "    }\n",
              "\n",
              "    .dataframe tbody tr th {\n",
              "        vertical-align: top;\n",
              "    }\n",
              "\n",
              "    .dataframe thead th {\n",
              "        text-align: right;\n",
              "    }\n",
              "</style>\n",
              "<table border=\"1\" class=\"dataframe\">\n",
              "  <thead>\n",
              "    <tr style=\"text-align: right;\">\n",
              "      <th></th>\n",
              "      <th>Nome do Projeto de Pesquisa</th>\n",
              "      <th>Data de Início</th>\n",
              "      <th>Natureza do Projeto de Pesquisa</th>\n",
              "      <th>Situação</th>\n",
              "      <th>Data da Situação</th>\n",
              "      <th>Data de Início da Linha de Pesquisa</th>\n",
              "      <th>Linha de Pesquisa</th>\n",
              "      <th>Área de Concentração</th>\n",
              "      <th>Identificador da Pessoa do Membro</th>\n",
              "      <th>Nome do Membro do Projeto</th>\n",
              "      <th>Categoria do Membro do Projeto</th>\n",
              "      <th>Membro Responsável</th>\n",
              "      <th>Data Início do Membro</th>\n",
              "      <th>Data Fim do Membro</th>\n",
              "      <th>Ano da Coleta</th>\n",
              "    </tr>\n",
              "  </thead>\n",
              "  <tbody>\n",
              "    <tr>\n",
              "      <th>232</th>\n",
              "      <td>PROJETO PARA A CONCEPÇÃO E DESENVOLVIMENTO DE ...</td>\n",
              "      <td>12/01/2021</td>\n",
              "      <td>PESQUISA</td>\n",
              "      <td>EM ANDAMENTO</td>\n",
              "      <td>12/01/2021</td>\n",
              "      <td>12/01/2021</td>\n",
              "      <td>INTEGRAÇÃO E AUTOMAÇÃO DE SISTEMAS</td>\n",
              "      <td>AUTOMAÇÃO E CONTROLE DE SISTEMAS</td>\n",
              "      <td>540250.0</td>\n",
              "      <td>ANDERSON LUIS SZEJKA</td>\n",
              "      <td>Docente</td>\n",
              "      <td>Sim</td>\n",
              "      <td>12/01/2021</td>\n",
              "      <td>31/12/2022</td>\n",
              "      <td>2021</td>\n",
              "    </tr>\n",
              "    <tr>\n",
              "      <th>233</th>\n",
              "      <td>PROJETO PARA A CONCEPÇÃO E DESENVOLVIMENTO DE ...</td>\n",
              "      <td>12/01/2021</td>\n",
              "      <td>PESQUISA</td>\n",
              "      <td>EM ANDAMENTO</td>\n",
              "      <td>12/01/2021</td>\n",
              "      <td>12/01/2021</td>\n",
              "      <td>INTEGRAÇÃO E AUTOMAÇÃO DE SISTEMAS</td>\n",
              "      <td>AUTOMAÇÃO E CONTROLE DE SISTEMAS</td>\n",
              "      <td>3861537.0</td>\n",
              "      <td>JOSE MAURICIO MOTTIN DE ANDRADE</td>\n",
              "      <td>Discente</td>\n",
              "      <td>Não</td>\n",
              "      <td>12/01/2021</td>\n",
              "      <td>12/11/2021</td>\n",
              "      <td>2021</td>\n",
              "    </tr>\n",
              "    <tr>\n",
              "      <th>234</th>\n",
              "      <td>PROJETO PARA A CONCEPÇÃO E DESENVOLVIMENTO DE ...</td>\n",
              "      <td>12/01/2021</td>\n",
              "      <td>PESQUISA</td>\n",
              "      <td>EM ANDAMENTO</td>\n",
              "      <td>12/01/2021</td>\n",
              "      <td>12/01/2021</td>\n",
              "      <td>INTEGRAÇÃO E AUTOMAÇÃO DE SISTEMAS</td>\n",
              "      <td>AUTOMAÇÃO E CONTROLE DE SISTEMAS</td>\n",
              "      <td>124896.0</td>\n",
              "      <td>TIAGO FRANCESCONI</td>\n",
              "      <td>Participante Externo</td>\n",
              "      <td>Não</td>\n",
              "      <td>12/01/2021</td>\n",
              "      <td>31/12/2022</td>\n",
              "      <td>2021</td>\n",
              "    </tr>\n",
              "    <tr>\n",
              "      <th>585</th>\n",
              "      <td>PROJETO PARA A CONCEPÇÃO E DESENVOLVIMENTO DE ...</td>\n",
              "      <td>12/01/2021</td>\n",
              "      <td>PESQUISA</td>\n",
              "      <td>CONCLUÍDO</td>\n",
              "      <td>31/12/2022</td>\n",
              "      <td>12/01/2021</td>\n",
              "      <td>INTEGRAÇÃO E AUTOMAÇÃO DE SISTEMAS</td>\n",
              "      <td>AUTOMAÇÃO E CONTROLE DE SISTEMAS</td>\n",
              "      <td>NaN</td>\n",
              "      <td>ANDERSON LUIS SZEJKA</td>\n",
              "      <td>Docente</td>\n",
              "      <td>Sim</td>\n",
              "      <td>12/01/2021</td>\n",
              "      <td>31/12/2022</td>\n",
              "      <td>2022</td>\n",
              "    </tr>\n",
              "    <tr>\n",
              "      <th>586</th>\n",
              "      <td>PROJETO PARA A CONCEPÇÃO E DESENVOLVIMENTO DE ...</td>\n",
              "      <td>12/01/2021</td>\n",
              "      <td>PESQUISA</td>\n",
              "      <td>CONCLUÍDO</td>\n",
              "      <td>31/12/2022</td>\n",
              "      <td>12/01/2021</td>\n",
              "      <td>INTEGRAÇÃO E AUTOMAÇÃO DE SISTEMAS</td>\n",
              "      <td>AUTOMAÇÃO E CONTROLE DE SISTEMAS</td>\n",
              "      <td>NaN</td>\n",
              "      <td>TIAGO FRANCESCONI</td>\n",
              "      <td>Participante Externo</td>\n",
              "      <td>Não</td>\n",
              "      <td>12/01/2021</td>\n",
              "      <td>31/12/2022</td>\n",
              "      <td>2022</td>\n",
              "    </tr>\n",
              "  </tbody>\n",
              "</table>\n",
              "</div>\n",
              "    <div class=\"colab-df-buttons\">\n",
              "\n",
              "  <div class=\"colab-df-container\">\n",
              "    <button class=\"colab-df-convert\" onclick=\"convertToInteractive('df-3b86d859-958b-4d6b-8a8d-0c99bcfc8248')\"\n",
              "            title=\"Convert this dataframe to an interactive table.\"\n",
              "            style=\"display:none;\">\n",
              "\n",
              "  <svg xmlns=\"http://www.w3.org/2000/svg\" height=\"24px\" viewBox=\"0 -960 960 960\">\n",
              "    <path d=\"M120-120v-720h720v720H120Zm60-500h600v-160H180v160Zm220 220h160v-160H400v160Zm0 220h160v-160H400v160ZM180-400h160v-160H180v160Zm440 0h160v-160H620v160ZM180-180h160v-160H180v160Zm440 0h160v-160H620v160Z\"/>\n",
              "  </svg>\n",
              "    </button>\n",
              "\n",
              "  <style>\n",
              "    .colab-df-container {\n",
              "      display:flex;\n",
              "      gap: 12px;\n",
              "    }\n",
              "\n",
              "    .colab-df-convert {\n",
              "      background-color: #E8F0FE;\n",
              "      border: none;\n",
              "      border-radius: 50%;\n",
              "      cursor: pointer;\n",
              "      display: none;\n",
              "      fill: #1967D2;\n",
              "      height: 32px;\n",
              "      padding: 0 0 0 0;\n",
              "      width: 32px;\n",
              "    }\n",
              "\n",
              "    .colab-df-convert:hover {\n",
              "      background-color: #E2EBFA;\n",
              "      box-shadow: 0px 1px 2px rgba(60, 64, 67, 0.3), 0px 1px 3px 1px rgba(60, 64, 67, 0.15);\n",
              "      fill: #174EA6;\n",
              "    }\n",
              "\n",
              "    .colab-df-buttons div {\n",
              "      margin-bottom: 4px;\n",
              "    }\n",
              "\n",
              "    [theme=dark] .colab-df-convert {\n",
              "      background-color: #3B4455;\n",
              "      fill: #D2E3FC;\n",
              "    }\n",
              "\n",
              "    [theme=dark] .colab-df-convert:hover {\n",
              "      background-color: #434B5C;\n",
              "      box-shadow: 0px 1px 3px 1px rgba(0, 0, 0, 0.15);\n",
              "      filter: drop-shadow(0px 1px 2px rgba(0, 0, 0, 0.3));\n",
              "      fill: #FFFFFF;\n",
              "    }\n",
              "  </style>\n",
              "\n",
              "    <script>\n",
              "      const buttonEl =\n",
              "        document.querySelector('#df-3b86d859-958b-4d6b-8a8d-0c99bcfc8248 button.colab-df-convert');\n",
              "      buttonEl.style.display =\n",
              "        google.colab.kernel.accessAllowed ? 'block' : 'none';\n",
              "\n",
              "      async function convertToInteractive(key) {\n",
              "        const element = document.querySelector('#df-3b86d859-958b-4d6b-8a8d-0c99bcfc8248');\n",
              "        const dataTable =\n",
              "          await google.colab.kernel.invokeFunction('convertToInteractive',\n",
              "                                                    [key], {});\n",
              "        if (!dataTable) return;\n",
              "\n",
              "        const docLinkHtml = 'Like what you see? Visit the ' +\n",
              "          '<a target=\"_blank\" href=https://colab.research.google.com/notebooks/data_table.ipynb>data table notebook</a>'\n",
              "          + ' to learn more about interactive tables.';\n",
              "        element.innerHTML = '';\n",
              "        dataTable['output_type'] = 'display_data';\n",
              "        await google.colab.output.renderOutput(dataTable, element);\n",
              "        const docLink = document.createElement('div');\n",
              "        docLink.innerHTML = docLinkHtml;\n",
              "        element.appendChild(docLink);\n",
              "      }\n",
              "    </script>\n",
              "  </div>\n",
              "\n",
              "\n",
              "<div id=\"df-c378a641-f836-4ff8-8b5d-9625488efb8c\">\n",
              "  <button class=\"colab-df-quickchart\" onclick=\"quickchart('df-c378a641-f836-4ff8-8b5d-9625488efb8c')\"\n",
              "            title=\"Suggest charts\"\n",
              "            style=\"display:none;\">\n",
              "\n",
              "<svg xmlns=\"http://www.w3.org/2000/svg\" height=\"24px\"viewBox=\"0 0 24 24\"\n",
              "     width=\"24px\">\n",
              "    <g>\n",
              "        <path d=\"M19 3H5c-1.1 0-2 .9-2 2v14c0 1.1.9 2 2 2h14c1.1 0 2-.9 2-2V5c0-1.1-.9-2-2-2zM9 17H7v-7h2v7zm4 0h-2V7h2v10zm4 0h-2v-4h2v4z\"/>\n",
              "    </g>\n",
              "</svg>\n",
              "  </button>\n",
              "\n",
              "<style>\n",
              "  .colab-df-quickchart {\n",
              "      --bg-color: #E8F0FE;\n",
              "      --fill-color: #1967D2;\n",
              "      --hover-bg-color: #E2EBFA;\n",
              "      --hover-fill-color: #174EA6;\n",
              "      --disabled-fill-color: #AAA;\n",
              "      --disabled-bg-color: #DDD;\n",
              "  }\n",
              "\n",
              "  [theme=dark] .colab-df-quickchart {\n",
              "      --bg-color: #3B4455;\n",
              "      --fill-color: #D2E3FC;\n",
              "      --hover-bg-color: #434B5C;\n",
              "      --hover-fill-color: #FFFFFF;\n",
              "      --disabled-bg-color: #3B4455;\n",
              "      --disabled-fill-color: #666;\n",
              "  }\n",
              "\n",
              "  .colab-df-quickchart {\n",
              "    background-color: var(--bg-color);\n",
              "    border: none;\n",
              "    border-radius: 50%;\n",
              "    cursor: pointer;\n",
              "    display: none;\n",
              "    fill: var(--fill-color);\n",
              "    height: 32px;\n",
              "    padding: 0;\n",
              "    width: 32px;\n",
              "  }\n",
              "\n",
              "  .colab-df-quickchart:hover {\n",
              "    background-color: var(--hover-bg-color);\n",
              "    box-shadow: 0 1px 2px rgba(60, 64, 67, 0.3), 0 1px 3px 1px rgba(60, 64, 67, 0.15);\n",
              "    fill: var(--button-hover-fill-color);\n",
              "  }\n",
              "\n",
              "  .colab-df-quickchart-complete:disabled,\n",
              "  .colab-df-quickchart-complete:disabled:hover {\n",
              "    background-color: var(--disabled-bg-color);\n",
              "    fill: var(--disabled-fill-color);\n",
              "    box-shadow: none;\n",
              "  }\n",
              "\n",
              "  .colab-df-spinner {\n",
              "    border: 2px solid var(--fill-color);\n",
              "    border-color: transparent;\n",
              "    border-bottom-color: var(--fill-color);\n",
              "    animation:\n",
              "      spin 1s steps(1) infinite;\n",
              "  }\n",
              "\n",
              "  @keyframes spin {\n",
              "    0% {\n",
              "      border-color: transparent;\n",
              "      border-bottom-color: var(--fill-color);\n",
              "      border-left-color: var(--fill-color);\n",
              "    }\n",
              "    20% {\n",
              "      border-color: transparent;\n",
              "      border-left-color: var(--fill-color);\n",
              "      border-top-color: var(--fill-color);\n",
              "    }\n",
              "    30% {\n",
              "      border-color: transparent;\n",
              "      border-left-color: var(--fill-color);\n",
              "      border-top-color: var(--fill-color);\n",
              "      border-right-color: var(--fill-color);\n",
              "    }\n",
              "    40% {\n",
              "      border-color: transparent;\n",
              "      border-right-color: var(--fill-color);\n",
              "      border-top-color: var(--fill-color);\n",
              "    }\n",
              "    60% {\n",
              "      border-color: transparent;\n",
              "      border-right-color: var(--fill-color);\n",
              "    }\n",
              "    80% {\n",
              "      border-color: transparent;\n",
              "      border-right-color: var(--fill-color);\n",
              "      border-bottom-color: var(--fill-color);\n",
              "    }\n",
              "    90% {\n",
              "      border-color: transparent;\n",
              "      border-bottom-color: var(--fill-color);\n",
              "    }\n",
              "  }\n",
              "</style>\n",
              "\n",
              "  <script>\n",
              "    async function quickchart(key) {\n",
              "      const quickchartButtonEl =\n",
              "        document.querySelector('#' + key + ' button');\n",
              "      quickchartButtonEl.disabled = true;  // To prevent multiple clicks.\n",
              "      quickchartButtonEl.classList.add('colab-df-spinner');\n",
              "      try {\n",
              "        const charts = await google.colab.kernel.invokeFunction(\n",
              "            'suggestCharts', [key], {});\n",
              "      } catch (error) {\n",
              "        console.error('Error during call to suggestCharts:', error);\n",
              "      }\n",
              "      quickchartButtonEl.classList.remove('colab-df-spinner');\n",
              "      quickchartButtonEl.classList.add('colab-df-quickchart-complete');\n",
              "    }\n",
              "    (() => {\n",
              "      let quickchartButtonEl =\n",
              "        document.querySelector('#df-c378a641-f836-4ff8-8b5d-9625488efb8c button');\n",
              "      quickchartButtonEl.style.display =\n",
              "        google.colab.kernel.accessAllowed ? 'block' : 'none';\n",
              "    })();\n",
              "  </script>\n",
              "</div>\n",
              "\n",
              "  <div id=\"id_6fb57baf-a2af-41f5-9db8-276f1dfa37ff\">\n",
              "    <style>\n",
              "      .colab-df-generate {\n",
              "        background-color: #E8F0FE;\n",
              "        border: none;\n",
              "        border-radius: 50%;\n",
              "        cursor: pointer;\n",
              "        display: none;\n",
              "        fill: #1967D2;\n",
              "        height: 32px;\n",
              "        padding: 0 0 0 0;\n",
              "        width: 32px;\n",
              "      }\n",
              "\n",
              "      .colab-df-generate:hover {\n",
              "        background-color: #E2EBFA;\n",
              "        box-shadow: 0px 1px 2px rgba(60, 64, 67, 0.3), 0px 1px 3px 1px rgba(60, 64, 67, 0.15);\n",
              "        fill: #174EA6;\n",
              "      }\n",
              "\n",
              "      [theme=dark] .colab-df-generate {\n",
              "        background-color: #3B4455;\n",
              "        fill: #D2E3FC;\n",
              "      }\n",
              "\n",
              "      [theme=dark] .colab-df-generate:hover {\n",
              "        background-color: #434B5C;\n",
              "        box-shadow: 0px 1px 3px 1px rgba(0, 0, 0, 0.15);\n",
              "        filter: drop-shadow(0px 1px 2px rgba(0, 0, 0, 0.3));\n",
              "        fill: #FFFFFF;\n",
              "      }\n",
              "    </style>\n",
              "    <button class=\"colab-df-generate\" onclick=\"generateWithVariable('df_query')\"\n",
              "            title=\"Generate code using this dataframe.\"\n",
              "            style=\"display:none;\">\n",
              "\n",
              "  <svg xmlns=\"http://www.w3.org/2000/svg\" height=\"24px\"viewBox=\"0 0 24 24\"\n",
              "       width=\"24px\">\n",
              "    <path d=\"M7,19H8.4L18.45,9,17,7.55,7,17.6ZM5,21V16.75L18.45,3.32a2,2,0,0,1,2.83,0l1.4,1.43a1.91,1.91,0,0,1,.58,1.4,1.91,1.91,0,0,1-.58,1.4L9.25,21ZM18.45,9,17,7.55Zm-12,3A5.31,5.31,0,0,0,4.9,8.1,5.31,5.31,0,0,0,1,6.5,5.31,5.31,0,0,0,4.9,4.9,5.31,5.31,0,0,0,6.5,1,5.31,5.31,0,0,0,8.1,4.9,5.31,5.31,0,0,0,12,6.5,5.46,5.46,0,0,0,6.5,12Z\"/>\n",
              "  </svg>\n",
              "    </button>\n",
              "    <script>\n",
              "      (() => {\n",
              "      const buttonEl =\n",
              "        document.querySelector('#id_6fb57baf-a2af-41f5-9db8-276f1dfa37ff button.colab-df-generate');\n",
              "      buttonEl.style.display =\n",
              "        google.colab.kernel.accessAllowed ? 'block' : 'none';\n",
              "\n",
              "      buttonEl.onclick = () => {\n",
              "        google.colab.notebook.generateWithVariable('df_query');\n",
              "      }\n",
              "      })();\n",
              "    </script>\n",
              "  </div>\n",
              "\n",
              "    </div>\n",
              "  </div>\n"
            ],
            "application/vnd.google.colaboratory.intrinsic+json": {
              "type": "dataframe",
              "variable_name": "df_query",
              "repr_error": "0"
            }
          },
          "metadata": {},
          "execution_count": 94
        }
      ]
    },
    {
      "cell_type": "code",
      "source": [
        "docente"
      ],
      "metadata": {
        "id": "xX8xVT4Saw1C",
        "outputId": "fa3a5609-0dd7-4cde-a576-43ed87941ccc",
        "colab": {
          "base_uri": "https://localhost:8080/",
          "height": 35
        }
      },
      "execution_count": 95,
      "outputs": [
        {
          "output_type": "execute_result",
          "data": {
            "text/plain": [
              "'EDUARDO DE FREITAS ROCHA LOURES'"
            ],
            "application/vnd.google.colaboratory.intrinsic+json": {
              "type": "string"
            }
          },
          "metadata": {},
          "execution_count": 95
        }
      ]
    },
    {
      "cell_type": "code",
      "source": [],
      "metadata": {
        "id": "D2J-4KH-a29w"
      },
      "execution_count": null,
      "outputs": []
    },
    {
      "cell_type": "code",
      "source": [
        "df.query('Financiado == True').Projeto.tolist()"
      ],
      "metadata": {
        "id": "mkeTgx-WbGyh",
        "outputId": "8909c781-f62e-4a9a-dc44-d659ca288b4a",
        "colab": {
          "base_uri": "https://localhost:8080/"
        }
      },
      "execution_count": 98,
      "outputs": [
        {
          "output_type": "execute_result",
          "data": {
            "text/plain": [
              "['Interoperabilidade Semântica aplicado no Projeto de Produto e Manufatura',\n",
              " 'Tecnologias para Visão Computacional e Aplicações',\n",
              " 'Tecnologias Digitais Emergentes e suas Aplicações em Sistemas de Operações',\n",
              " 'Avaliação diagnóstica para análise de maturidade e desenvolvimento de roadmap tecnológico voltados à transformação digital e indústria 4.0',\n",
              " 'Supervisão Inteligente Integrada à Função Manutenção Industrial sob Requisitos da Indústria 4.0',\n",
              " 'GERENCIAMENTO E EXECUÇÃO DO ROADMAP ESTRATÉGICO DE IMPLEMENTAÇÃO DO SISTEMA LEAN NA MANUFATURA ORIENTADA À INDÚSTRIA 4.0',\n",
              " 'Implantação de Sistema de Visão Computacional Aplicado à Correção de Trajetória para Solda Robotizada',\n",
              " '[CNPq UNIVERSAL 437105/2018-0] Engineering design with multiobjective optimisation techniques',\n",
              " 'FA-PPP 20/2018] Engineering design with multi-objective optimisation techniques',\n",
              " 'Monitoramento de Veículos Baseado em Tecnologia Embarcada e Sistema Web para Gerenciamento de Dados',\n",
              " 'Performance Analytics',\n",
              " 'Inteligência Artificial Híbrida orientada a Sistemas de Produção Ciberfísicos (CPPS)',\n",
              " 'Sistema de Visão Cognitiva (n. tema do Edital: 51)',\n",
              " 'Governança do ciclo de vida de dados de produção em estrutura de Big Data',\n",
              " 'Pesquisa e Desenvolvimento de um sistema inteligente de previsão e identificação de falhas no processo de manufatura da linha do CRIN baseado no machine learning e interoperabilidade semântica',\n",
              " 'DESENVOLVIMENTO DE SOLUÇÕES ESTRATEGICAS NO DIAGNOSTICO DE EXAMES COM APRENDIZAGEM DE MÁQUINA',\n",
              " 'Gestão de Operações no Contexto da Transformação Digital',\n",
              " 'Aplicação da visão computacional com aprendizado profundo para sistemas inteligentes de transporte e de segurança no trânsito\"',\n",
              " 'Automação Aplicada ao Desenvolvimento de Sistemas Embarcados para Comunicação, Armazenamento e Ciência de Dados',\n",
              " 'Transformação Digital de Processos Administrativos',\n",
              " 'Solução start-stop para veículos comerciais: testes para validação do conceito',\n",
              " 'Desenvolvimento de Tecnologia Baseada em Inteligência Computacional Aplicada à Indústria Automotiva',\n",
              " 'Enterprise Interoperability Assessment – EIA: Proposta de um Modelo de Avaliação de Interoperabilidade Organizacional sob Cenário da Indústria 4.0 e Transformação Digital',\n",
              " 'P&D para a sistematização da coleta e análise de múltiplas informações para a predição de falhas em ativos de uma fábrica inteligente',\n",
              " 'PESQUISA E AVALIAÇÃO DE SISTEMAS DOPPLER E LIDAR NO CONTEXTO DE MEDIÇÕES POR PROCESSAMENTO DE IMAGENS',\n",
              " 'Pesquisa e Desenvolvimento de um Sistema de Reconhecimento de Padrões em Operação Embarcada em Implemento de Pulverização Agrícola : Estudos, Requisitos e Prototipação',\n",
              " 'Pesquisa e identificação de padrões em bases de dados de operadoras de saúde',\n",
              " 'PRONEX CNPq/FA 042/2018 - Paradigmas de aprendizado de máquina e metaheurísticas em problemas de classificação, regressão, otimização e agrupamento de dados \"',\n",
              " 'Avaliação Diagnóstica para Análise de Maturidade e Desenvolvimento de Roadmap Tecnológico voltados à Transformação Digital e Indústria 4.0',\n",
              " 'Desenvolvimento e aplicações de tecnologias inovadoras voltadas ao desenvolvimento da indústria automotiva',\n",
              " 'Sistema Inteligente de Monitoramento, Detecção e Diagnóstico de Falhas em Processos de Manufatura 4.0',\n",
              " 'Aplicações de Machine Learning em engenharia e tomada de desição',\n",
              " 'Implementação, validação e avaliação de um sistema de rastreabilidade da informação para melhoria do processo de produção da Fibersul',\n",
              " 'Projeto de inovação para o mapeamento e Capacitação de novos talentos para área de TI',\n",
              " 'Estratégia, Modelagem de Negócios e Indicadores de Operações',\n",
              " 'Pesquisa e desenvolvimento para aplicação dos conceitos de big data e data analytics para a integração horizontal e vertical de uma fábrica inteligente e conectada',\n",
              " 'Identificação, Estimação e Controle',\n",
              " 'Desenvolvimento e aplicações de tecnologias inovadoras voltadas à transformação digital dos processos e produtos da Volvo do Brasil Veículos',\n",
              " 'Desenvolvimento de uma arquitetura de digital twin para apoio ao projeto de sistemas de automação',\n",
              " 'Pesquisa e desenvolvimento de um sistema de rastreabilidade da informação para melhoria do processo de produção',\n",
              " 'Transformação Digital e TI na Indústria Automotiva: Aplicações de ferramentas e tecnologias para a resolução de problemas práticos\"',\n",
              " 'Sistema de Visão Aplicada à Correção de Trajetória para Solda Robotizada',\n",
              " 'Desenvolvimento de Estratégias para Detecção Antecipada de Falhas em Produtos da NHS Baseado na Correlação de Dados e Técnicas de Aprendizado de Máquinas',\n",
              " 'P&D em tendências emergentes automotivas',\n",
              " 'Desenvolvimento de Estratégias para Melhora do Desempenho de Sistemas de Visão Computacional',\n",
              " 'Concepção, Design e Desenvolvimento de Novos Produtos e Serviços',\n",
              " 'Proposta de um Modelo de Avaliação de Interoperabilidade Organizacional para Empresas do Setor Público e Industrial.',\n",
              " 'Ciência Aplicada na Solução de Problemas da Indústria Automobilística: Uma Abordagem que Envolve Pesquisa e Viabilidade Econômica',\n",
              " 'Otimização do processo de manufatura de produtos da Fibersul através da aplicação de tecnologias emergentes da indústria 4.0',\n",
              " 'PROJETO PARA A CONCEPÇÃO E DESENVOLVIMENTO DE UM NOVO SISTEMA DE POLIMENTO DE MÚLTIPLAS CONEXÕES ÓPTICAS']"
            ]
          },
          "metadata": {},
          "execution_count": 98
        }
      ]
    },
    {
      "cell_type": "code",
      "source": [
        "G3 = 0\n",
        "for docente in docentes_permanentes:\n",
        "    for projeto in df.query('Financiado == True').Projeto.tolist():\n",
        "        df_query = df_projeto_membros.loc[df_projeto_membros[\"Nome do Projeto de Pesquisa\"] == projeto]\n",
        "        if docente in df_query['Nome do Membro do Projeto'].tolist():\n",
        "            G3 += 1\n",
        "            break\n",
        "G3 = G3 / len(docentes_permanentes)\n",
        "G3"
      ],
      "metadata": {
        "id": "6qmDukOMYfGY",
        "outputId": "6005582e-f2fa-40a8-fe33-23a46679e655",
        "colab": {
          "base_uri": "https://localhost:8080/"
        }
      },
      "execution_count": 102,
      "outputs": [
        {
          "output_type": "execute_result",
          "data": {
            "text/plain": [
              "1.0"
            ]
          },
          "metadata": {},
          "execution_count": 102
        }
      ]
    },
    {
      "cell_type": "code",
      "source": [
        "G4 = df[['CDIAC', 'GP','IDP','IAS']].any(axis=0).mean()\n",
        "G4"
      ],
      "metadata": {
        "id": "z3wbVI7kYH3g",
        "outputId": "724dba48-a338-4edc-883e-35a0a6f01d5e",
        "colab": {
          "base_uri": "https://localhost:8080/"
        }
      },
      "execution_count": 86,
      "outputs": [
        {
          "output_type": "execute_result",
          "data": {
            "text/plain": [
              "1.0"
            ]
          },
          "metadata": {},
          "execution_count": 86
        }
      ]
    }
  ]
}