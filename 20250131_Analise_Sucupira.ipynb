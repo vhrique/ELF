{
  "nbformat": 4,
  "nbformat_minor": 0,
  "metadata": {
    "colab": {
      "provenance": [],
      "authorship_tag": "ABX9TyM5QCfMaHQiEmj2IJR3P/n2",
      "include_colab_link": true
    },
    "kernelspec": {
      "name": "python3",
      "display_name": "Python 3"
    },
    "language_info": {
      "name": "python"
    }
  },
  "cells": [
    {
      "cell_type": "markdown",
      "metadata": {
        "id": "view-in-github",
        "colab_type": "text"
      },
      "source": [
        "<a href=\"https://colab.research.google.com/github/vhrique/ELF/blob/main/20250131_Analise_Sucupira.ipynb\" target=\"_parent\"><img src=\"https://colab.research.google.com/assets/colab-badge.svg\" alt=\"Open In Colab\"/></a>"
      ]
    },
    {
      "cell_type": "code",
      "execution_count": 1,
      "metadata": {
        "id": "pS58F85Ywj5K"
      },
      "outputs": [],
      "source": [
        "import pandas as pd\n",
        "import numpy as np"
      ]
    },
    {
      "cell_type": "code",
      "source": [
        "planilhas = {\n",
        "    '2021': 'https://drive.google.com/uc?export=download&id=1aY-35G2D8oFIwY9UtxaUP9K00Cz72Tf9',\n",
        "    '2022': 'https://drive.google.com/uc?export=download&id=14QUdOCIMWLOL3De60GKPkvlgxzaMCDPz',\n",
        "    '2023': 'https://drive.google.com/uc?export=download&id=1C2qkNL1N9B6Q6wUh33kbkQ8QRySnEfnZ',\n",
        "    # '2024': 'https://drive.google.com/uc?export=download&id=1WLvc4wt8RsiN2Ob6UWjGq9SodFvQORCj',\n",
        "}"
      ],
      "metadata": {
        "id": "Q3gBZilQwxLx"
      },
      "execution_count": 2,
      "outputs": []
    },
    {
      "cell_type": "code",
      "source": [
        "df = {}\n",
        "for ano in planilhas:\n",
        "    df[ano] = pd.read_excel(planilhas[ano], sheet_name=None)"
      ],
      "metadata": {
        "id": "ojos5l2fyDdr"
      },
      "execution_count": 3,
      "outputs": []
    },
    {
      "cell_type": "code",
      "source": [
        "dfs = []\n",
        "for ano in df:\n",
        "    new_df = df[ano]['Projetos - Membros']\n",
        "    new_df['Ano da Coleta'] = ano\n",
        "    dfs.append(new_df)\n",
        "df_projeto_membros = pd.concat(dfs).reset_index(drop=True)"
      ],
      "metadata": {
        "id": "2awym1pSyOao"
      },
      "execution_count": 4,
      "outputs": []
    },
    {
      "cell_type": "code",
      "source": [
        "dfs = []\n",
        "for ano in df:\n",
        "    new_df = df[ano]['Projetos - Financiadores']\n",
        "    new_df['Ano da Coleta'] = ano\n",
        "    dfs.append(new_df)\n",
        "df_projeto_financiadores = pd.concat(dfs).reset_index(drop=True)"
      ],
      "metadata": {
        "id": "p8IKL0X9zrf_"
      },
      "execution_count": 5,
      "outputs": []
    },
    {
      "cell_type": "code",
      "source": [
        "for i, row in df_projeto_financiadores.iterrows():\n",
        "    df_projeto_financiadores.loc[i,'Nome do Projeto de Pesquisa'] = df_projeto_financiadores.loc[i,'Nome do Projeto de Pesquisa'].replace('\"','')\n",
        "\n",
        "for i, row in df_projeto_membros.iterrows():\n",
        "    df_projeto_membros.loc[i,'Nome do Projeto de Pesquisa'] = df_projeto_membros.loc[i,'Nome do Projeto de Pesquisa'].replace('\"','')"
      ],
      "metadata": {
        "id": "s57Bn4v1RKwW"
      },
      "execution_count": 10,
      "outputs": []
    },
    {
      "cell_type": "code",
      "source": [
        "projetos_financiados = df_projeto_financiadores['Nome do Projeto de Pesquisa'].unique().tolist()\n",
        "projetos_com_membros = df_projeto_membros['Nome do Projeto de Pesquisa'].unique().tolist()\n",
        "projetos_todos = list(set(projetos_financiados + projetos_com_membros))"
      ],
      "metadata": {
        "id": "DjwfK5j92QUT"
      },
      "execution_count": 11,
      "outputs": []
    },
    {
      "cell_type": "code",
      "source": [
        "df = pd.DataFrame({\n",
        "    'Projeto': projetos_todos\n",
        "})"
      ],
      "metadata": {
        "id": "Kkehk0bWRd1H"
      },
      "execution_count": 12,
      "outputs": []
    },
    {
      "cell_type": "code",
      "source": [
        "for i, row in df.iterrows():\n",
        "    df.loc[i, 'Financiado'] = row.Projeto in df_projeto_financiadores['Nome do Projeto de Pesquisa'].tolist()"
      ],
      "metadata": {
        "id": "_bxRYnMt3R1q"
      },
      "execution_count": 15,
      "outputs": []
    },
    {
      "cell_type": "code",
      "source": [
        "for i, row in df.iterrows():\n",
        "    df_query = df_projeto_membros.loc[df_projeto_membros[\"Nome do Projeto de Pesquisa\"] == row.Projeto]\n",
        "    df.loc[i, 'Bolsista'] = 'Discente' in df_query['Categoria do Membro do Projeto'].tolist()"
      ],
      "metadata": {
        "id": "xxflwUrqSN2m"
      },
      "execution_count": 19,
      "outputs": []
    }
  ]
}